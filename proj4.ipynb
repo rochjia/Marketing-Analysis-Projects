{
 "cells": [
  {
   "attachments": {},
   "cell_type": "markdown",
   "metadata": {},
   "source": [
    "# Marketing Analytics Project 4: Marketing"
   ]
  },
  {
   "cell_type": "code",
   "execution_count": 78,
   "metadata": {},
   "outputs": [],
   "source": [
    "import pandas as pd\n",
    "import numpy as np"
   ]
  },
  {
   "cell_type": "code",
   "execution_count": 79,
   "metadata": {},
   "outputs": [],
   "source": [
    "transactions = pd.read_excel('ACSE - Mahou San Miguel data.xlsx', sheet_name='transactions')\n",
    "products = pd.read_excel('ACSE - Mahou San Miguel data.xlsx', sheet_name='products')\n",
    "seasonality = pd.read_excel('ACSE - Mahou San Miguel data.xlsx', sheet_name='seasonality')\n",
    "promo_ad = pd.read_excel('ACSE - Mahou San Miguel data.xlsx', sheet_name='promo_ad')\n",
    "event_holiday = pd.read_excel('ACSE - Mahou San Miguel data.xlsx', sheet_name='event_holiday')"
   ]
  },
  {
   "attachments": {},
   "cell_type": "markdown",
   "metadata": {},
   "source": [
    "## Data Manipulation"
   ]
  },
  {
   "attachments": {},
   "cell_type": "markdown",
   "metadata": {},
   "source": [
    "#### transactions"
   ]
  },
  {
   "cell_type": "code",
   "execution_count": 80,
   "metadata": {},
   "outputs": [
    {
     "data": {
      "text/plain": [
       "cust_id               int64\n",
       "prod_id               int64\n",
       "trans_id              int64\n",
       "trans_dt     datetime64[ns]\n",
       "sales_qty             int64\n",
       "sales_amt           float64\n",
       "dtype: object"
      ]
     },
     "execution_count": 80,
     "metadata": {},
     "output_type": "execute_result"
    }
   ],
   "source": [
    "transactions.dtypes"
   ]
  },
  {
   "cell_type": "code",
   "execution_count": 81,
   "metadata": {},
   "outputs": [
    {
     "data": {
      "text/html": [
       "<div>\n",
       "<style scoped>\n",
       "    .dataframe tbody tr th:only-of-type {\n",
       "        vertical-align: middle;\n",
       "    }\n",
       "\n",
       "    .dataframe tbody tr th {\n",
       "        vertical-align: top;\n",
       "    }\n",
       "\n",
       "    .dataframe thead th {\n",
       "        text-align: right;\n",
       "    }\n",
       "</style>\n",
       "<table border=\"1\" class=\"dataframe\">\n",
       "  <thead>\n",
       "    <tr style=\"text-align: right;\">\n",
       "      <th></th>\n",
       "      <th>year</th>\n",
       "      <th>month</th>\n",
       "      <th>day</th>\n",
       "      <th>week</th>\n",
       "      <th>cust_id</th>\n",
       "      <th>prod_id</th>\n",
       "      <th>trans_id</th>\n",
       "      <th>sales_qty</th>\n",
       "      <th>sales_amt</th>\n",
       "    </tr>\n",
       "  </thead>\n",
       "  <tbody>\n",
       "    <tr>\n",
       "      <th>0</th>\n",
       "      <td>2019</td>\n",
       "      <td>1</td>\n",
       "      <td>27</td>\n",
       "      <td>4</td>\n",
       "      <td>1126801552</td>\n",
       "      <td>23141593</td>\n",
       "      <td>190127010000109698</td>\n",
       "      <td>1</td>\n",
       "      <td>9.99</td>\n",
       "    </tr>\n",
       "    <tr>\n",
       "      <th>1</th>\n",
       "      <td>2019</td>\n",
       "      <td>1</td>\n",
       "      <td>27</td>\n",
       "      <td>4</td>\n",
       "      <td>1129263437</td>\n",
       "      <td>23141593</td>\n",
       "      <td>190127010000109643</td>\n",
       "      <td>1</td>\n",
       "      <td>9.99</td>\n",
       "    </tr>\n",
       "    <tr>\n",
       "      <th>2</th>\n",
       "      <td>2019</td>\n",
       "      <td>1</td>\n",
       "      <td>27</td>\n",
       "      <td>4</td>\n",
       "      <td>1148577540</td>\n",
       "      <td>23141593</td>\n",
       "      <td>190127010000109827</td>\n",
       "      <td>1</td>\n",
       "      <td>9.99</td>\n",
       "    </tr>\n",
       "    <tr>\n",
       "      <th>3</th>\n",
       "      <td>2019</td>\n",
       "      <td>1</td>\n",
       "      <td>27</td>\n",
       "      <td>4</td>\n",
       "      <td>1131341193</td>\n",
       "      <td>23141592</td>\n",
       "      <td>190127010000206031</td>\n",
       "      <td>1</td>\n",
       "      <td>3.99</td>\n",
       "    </tr>\n",
       "    <tr>\n",
       "      <th>4</th>\n",
       "      <td>2019</td>\n",
       "      <td>1</td>\n",
       "      <td>27</td>\n",
       "      <td>4</td>\n",
       "      <td>1151750173</td>\n",
       "      <td>23141592</td>\n",
       "      <td>190127010000206174</td>\n",
       "      <td>2</td>\n",
       "      <td>7.98</td>\n",
       "    </tr>\n",
       "  </tbody>\n",
       "</table>\n",
       "</div>"
      ],
      "text/plain": [
       "   year  month  day  week     cust_id   prod_id            trans_id  \\\n",
       "0  2019      1   27     4  1126801552  23141593  190127010000109698   \n",
       "1  2019      1   27     4  1129263437  23141593  190127010000109643   \n",
       "2  2019      1   27     4  1148577540  23141593  190127010000109827   \n",
       "3  2019      1   27     4  1131341193  23141592  190127010000206031   \n",
       "4  2019      1   27     4  1151750173  23141592  190127010000206174   \n",
       "\n",
       "   sales_qty  sales_amt  \n",
       "0          1       9.99  \n",
       "1          1       9.99  \n",
       "2          1       9.99  \n",
       "3          1       3.99  \n",
       "4          2       7.98  "
      ]
     },
     "execution_count": 81,
     "metadata": {},
     "output_type": "execute_result"
    }
   ],
   "source": [
    "# Manipulate the time format\n",
    "transactions['trans_dt'] = pd.to_datetime(transactions['trans_dt'])\n",
    "transactions['year'] = transactions['trans_dt'].dt.year\n",
    "transactions['month'] = transactions['trans_dt'].dt.month\n",
    "transactions['day'] = transactions['trans_dt'].dt.day\n",
    "transactions['week'] = transactions['trans_dt'].apply(lambda x: x.weekofyear if x.weekday() == 6 else x.weekofyear - 1)\n",
    "transactions = transactions[['year', 'month', 'day', 'week', 'cust_id', 'prod_id', 'trans_id', 'sales_qty', 'sales_amt']]\n",
    "transactions.head()"
   ]
  },
  {
   "cell_type": "code",
   "execution_count": 82,
   "metadata": {},
   "outputs": [],
   "source": [
    "# Aggregate to week level\n",
    "trans_week = transactions.groupby(['year', 'week', 'prod_id'])[['sales_qty', 'sales_amt']].sum().reset_index()"
   ]
  },
  {
   "cell_type": "code",
   "execution_count": 83,
   "metadata": {},
   "outputs": [
    {
     "data": {
      "text/html": [
       "<div>\n",
       "<style scoped>\n",
       "    .dataframe tbody tr th:only-of-type {\n",
       "        vertical-align: middle;\n",
       "    }\n",
       "\n",
       "    .dataframe tbody tr th {\n",
       "        vertical-align: top;\n",
       "    }\n",
       "\n",
       "    .dataframe thead th {\n",
       "        text-align: right;\n",
       "    }\n",
       "</style>\n",
       "<table border=\"1\" class=\"dataframe\">\n",
       "  <thead>\n",
       "    <tr style=\"text-align: right;\">\n",
       "      <th></th>\n",
       "      <th>year</th>\n",
       "      <th>week</th>\n",
       "      <th>prod_id</th>\n",
       "      <th>sales_qty</th>\n",
       "      <th>sales_amt</th>\n",
       "    </tr>\n",
       "  </thead>\n",
       "  <tbody>\n",
       "    <tr>\n",
       "      <th>0</th>\n",
       "      <td>2019</td>\n",
       "      <td>0</td>\n",
       "      <td>23141592</td>\n",
       "      <td>264</td>\n",
       "      <td>1185.36</td>\n",
       "    </tr>\n",
       "    <tr>\n",
       "      <th>1</th>\n",
       "      <td>2019</td>\n",
       "      <td>0</td>\n",
       "      <td>23141593</td>\n",
       "      <td>87</td>\n",
       "      <td>1217.13</td>\n",
       "    </tr>\n",
       "    <tr>\n",
       "      <th>2</th>\n",
       "      <td>2019</td>\n",
       "      <td>4</td>\n",
       "      <td>23141592</td>\n",
       "      <td>1886</td>\n",
       "      <td>7525.14</td>\n",
       "    </tr>\n",
       "    <tr>\n",
       "      <th>3</th>\n",
       "      <td>2019</td>\n",
       "      <td>4</td>\n",
       "      <td>23141593</td>\n",
       "      <td>2465</td>\n",
       "      <td>24625.35</td>\n",
       "    </tr>\n",
       "    <tr>\n",
       "      <th>4</th>\n",
       "      <td>2019</td>\n",
       "      <td>5</td>\n",
       "      <td>23141592</td>\n",
       "      <td>777</td>\n",
       "      <td>3877.23</td>\n",
       "    </tr>\n",
       "  </tbody>\n",
       "</table>\n",
       "</div>"
      ],
      "text/plain": [
       "   year  week   prod_id  sales_qty  sales_amt\n",
       "0  2019     0  23141592        264    1185.36\n",
       "1  2019     0  23141593         87    1217.13\n",
       "2  2019     4  23141592       1886    7525.14\n",
       "3  2019     4  23141593       2465   24625.35\n",
       "4  2019     5  23141592        777    3877.23"
      ]
     },
     "execution_count": 83,
     "metadata": {},
     "output_type": "execute_result"
    }
   ],
   "source": [
    "trans_week.head()"
   ]
  },
  {
   "attachments": {},
   "cell_type": "markdown",
   "metadata": {},
   "source": [
    "#### seasonality"
   ]
  },
  {
   "cell_type": "code",
   "execution_count": 84,
   "metadata": {},
   "outputs": [
    {
     "data": {
      "text/plain": [
       "week          datetime64[ns]\n",
       "seas_index           float64\n",
       "dtype: object"
      ]
     },
     "execution_count": 84,
     "metadata": {},
     "output_type": "execute_result"
    }
   ],
   "source": [
    "seasonality.dtypes"
   ]
  },
  {
   "cell_type": "code",
   "execution_count": 85,
   "metadata": {},
   "outputs": [
    {
     "data": {
      "text/html": [
       "<div>\n",
       "<style scoped>\n",
       "    .dataframe tbody tr th:only-of-type {\n",
       "        vertical-align: middle;\n",
       "    }\n",
       "\n",
       "    .dataframe tbody tr th {\n",
       "        vertical-align: top;\n",
       "    }\n",
       "\n",
       "    .dataframe thead th {\n",
       "        text-align: right;\n",
       "    }\n",
       "</style>\n",
       "<table border=\"1\" class=\"dataframe\">\n",
       "  <thead>\n",
       "    <tr style=\"text-align: right;\">\n",
       "      <th></th>\n",
       "      <th>year</th>\n",
       "      <th>week</th>\n",
       "      <th>seas_index</th>\n",
       "    </tr>\n",
       "  </thead>\n",
       "  <tbody>\n",
       "    <tr>\n",
       "      <th>0</th>\n",
       "      <td>2017</td>\n",
       "      <td>25</td>\n",
       "      <td>1.100412</td>\n",
       "    </tr>\n",
       "    <tr>\n",
       "      <th>1</th>\n",
       "      <td>2017</td>\n",
       "      <td>26</td>\n",
       "      <td>1.102850</td>\n",
       "    </tr>\n",
       "    <tr>\n",
       "      <th>2</th>\n",
       "      <td>2017</td>\n",
       "      <td>27</td>\n",
       "      <td>0.961778</td>\n",
       "    </tr>\n",
       "    <tr>\n",
       "      <th>3</th>\n",
       "      <td>2017</td>\n",
       "      <td>28</td>\n",
       "      <td>1.135816</td>\n",
       "    </tr>\n",
       "    <tr>\n",
       "      <th>4</th>\n",
       "      <td>2017</td>\n",
       "      <td>29</td>\n",
       "      <td>1.101576</td>\n",
       "    </tr>\n",
       "    <tr>\n",
       "      <th>...</th>\n",
       "      <td>...</td>\n",
       "      <td>...</td>\n",
       "      <td>...</td>\n",
       "    </tr>\n",
       "    <tr>\n",
       "      <th>176</th>\n",
       "      <td>2020</td>\n",
       "      <td>47</td>\n",
       "      <td>0.697492</td>\n",
       "    </tr>\n",
       "    <tr>\n",
       "      <th>177</th>\n",
       "      <td>2020</td>\n",
       "      <td>48</td>\n",
       "      <td>0.671990</td>\n",
       "    </tr>\n",
       "    <tr>\n",
       "      <th>178</th>\n",
       "      <td>2020</td>\n",
       "      <td>49</td>\n",
       "      <td>0.715360</td>\n",
       "    </tr>\n",
       "    <tr>\n",
       "      <th>179</th>\n",
       "      <td>2020</td>\n",
       "      <td>50</td>\n",
       "      <td>1.057361</td>\n",
       "    </tr>\n",
       "    <tr>\n",
       "      <th>180</th>\n",
       "      <td>2020</td>\n",
       "      <td>51</td>\n",
       "      <td>1.157014</td>\n",
       "    </tr>\n",
       "  </tbody>\n",
       "</table>\n",
       "<p>181 rows × 3 columns</p>\n",
       "</div>"
      ],
      "text/plain": [
       "     year  week  seas_index\n",
       "0    2017    25    1.100412\n",
       "1    2017    26    1.102850\n",
       "2    2017    27    0.961778\n",
       "3    2017    28    1.135816\n",
       "4    2017    29    1.101576\n",
       "..    ...   ...         ...\n",
       "176  2020    47    0.697492\n",
       "177  2020    48    0.671990\n",
       "178  2020    49    0.715360\n",
       "179  2020    50    1.057361\n",
       "180  2020    51    1.157014\n",
       "\n",
       "[181 rows x 3 columns]"
      ]
     },
     "execution_count": 85,
     "metadata": {},
     "output_type": "execute_result"
    }
   ],
   "source": [
    "# Manipulate the time format\n",
    "seasonality['year'] = seasonality['week'].dt.year\n",
    "seasonality['week'] = seasonality['week'].apply(lambda x: x.weekofyear if x.weekday() == 6 else x.weekofyear - 1)\n",
    "seasonality = seasonality[['year', 'week', 'seas_index']]\n",
    "seasonality"
   ]
  },
  {
   "attachments": {},
   "cell_type": "markdown",
   "metadata": {},
   "source": [
    "#### promo_ad"
   ]
  },
  {
   "cell_type": "code",
   "execution_count": 86,
   "metadata": {},
   "outputs": [
    {
     "data": {
      "text/plain": [
       "week       datetime64[ns]\n",
       "vehicle            object\n",
       "amount              int64\n",
       "unit               object\n",
       "prod_id            object\n",
       "cost              float64\n",
       "dtype: object"
      ]
     },
     "execution_count": 86,
     "metadata": {},
     "output_type": "execute_result"
    }
   ],
   "source": [
    "promo_ad.dtypes"
   ]
  },
  {
   "cell_type": "code",
   "execution_count": 87,
   "metadata": {},
   "outputs": [],
   "source": [
    "# Manipulate the time format\n",
    "promo_ad['year'] = promo_ad['week'].dt.year\n",
    "promo_ad['week'] = promo_ad['week'].apply(lambda x: x.weekofyear if x.weekday() == 6 else x.weekofyear - 1)"
   ]
  },
  {
   "cell_type": "code",
   "execution_count": 88,
   "metadata": {},
   "outputs": [],
   "source": [
    "# Manipulate the rows with \"ALL\" prod_id\n",
    "all_rows = promo_ad[promo_ad['prod_id'] == 'ALL']\n",
    "\n",
    "# Create two new rows for each prod_id\n",
    "new_rows_1 = all_rows.copy()\n",
    "new_rows_1['prod_id'] = 23141592\n",
    "new_rows_1['cost'] = all_rows['cost'] / 2\n",
    "\n",
    "new_rows_2 = all_rows.copy()\n",
    "new_rows_2['prod_id'] = 23141593\n",
    "new_rows_2['cost'] = all_rows['cost'] / 2\n",
    "\n",
    "promo_ad = pd.concat([promo_ad, new_rows_1, new_rows_2])\n",
    "\n",
    "# Remove the original rows with 'ALL'\n",
    "promo_ad = promo_ad[promo_ad['prod_id'] != 'ALL']\n",
    "\n",
    "# Modify the special case: Display\n",
    "promo_ad.loc[(promo_ad['vehicle'] == 'Display') & (promo_ad['prod_id'] == 23141592), 'cost'] = 1500\n",
    "promo_ad.loc[(promo_ad['vehicle'] == 'Display') & (promo_ad['prod_id'] == 23141593), 'cost'] = 3000\n",
    "\n",
    "promo_ad = promo_ad[['year', 'week', 'vehicle', 'amount', 'unit', 'prod_id', 'cost']].sort_values(by=['vehicle', 'year', 'week'])#.reset_index()"
   ]
  },
  {
   "cell_type": "code",
   "execution_count": 89,
   "metadata": {},
   "outputs": [
    {
     "data": {
      "text/html": [
       "<div>\n",
       "<style scoped>\n",
       "    .dataframe tbody tr th:only-of-type {\n",
       "        vertical-align: middle;\n",
       "    }\n",
       "\n",
       "    .dataframe tbody tr th {\n",
       "        vertical-align: top;\n",
       "    }\n",
       "\n",
       "    .dataframe thead th {\n",
       "        text-align: right;\n",
       "    }\n",
       "</style>\n",
       "<table border=\"1\" class=\"dataframe\">\n",
       "  <thead>\n",
       "    <tr style=\"text-align: right;\">\n",
       "      <th></th>\n",
       "      <th>year</th>\n",
       "      <th>week</th>\n",
       "      <th>vehicle</th>\n",
       "      <th>amount</th>\n",
       "      <th>unit</th>\n",
       "      <th>prod_id</th>\n",
       "      <th>cost</th>\n",
       "    </tr>\n",
       "  </thead>\n",
       "  <tbody>\n",
       "    <tr>\n",
       "      <th>0</th>\n",
       "      <td>2019</td>\n",
       "      <td>4</td>\n",
       "      <td>Display</td>\n",
       "      <td>1</td>\n",
       "      <td>NaN</td>\n",
       "      <td>23141592</td>\n",
       "      <td>1500.0</td>\n",
       "    </tr>\n",
       "    <tr>\n",
       "      <th>0</th>\n",
       "      <td>2019</td>\n",
       "      <td>4</td>\n",
       "      <td>Display</td>\n",
       "      <td>1</td>\n",
       "      <td>NaN</td>\n",
       "      <td>23141593</td>\n",
       "      <td>3000.0</td>\n",
       "    </tr>\n",
       "    <tr>\n",
       "      <th>1</th>\n",
       "      <td>2019</td>\n",
       "      <td>9</td>\n",
       "      <td>Display</td>\n",
       "      <td>1</td>\n",
       "      <td>NaN</td>\n",
       "      <td>23141593</td>\n",
       "      <td>3000.0</td>\n",
       "    </tr>\n",
       "    <tr>\n",
       "      <th>2</th>\n",
       "      <td>2019</td>\n",
       "      <td>10</td>\n",
       "      <td>Display</td>\n",
       "      <td>1</td>\n",
       "      <td>NaN</td>\n",
       "      <td>23141593</td>\n",
       "      <td>3000.0</td>\n",
       "    </tr>\n",
       "    <tr>\n",
       "      <th>3</th>\n",
       "      <td>2019</td>\n",
       "      <td>13</td>\n",
       "      <td>Display</td>\n",
       "      <td>1</td>\n",
       "      <td>NaN</td>\n",
       "      <td>23141593</td>\n",
       "      <td>3000.0</td>\n",
       "    </tr>\n",
       "  </tbody>\n",
       "</table>\n",
       "</div>"
      ],
      "text/plain": [
       "   year  week  vehicle  amount unit   prod_id    cost\n",
       "0  2019     4  Display       1  NaN  23141592  1500.0\n",
       "0  2019     4  Display       1  NaN  23141593  3000.0\n",
       "1  2019     9  Display       1  NaN  23141593  3000.0\n",
       "2  2019    10  Display       1  NaN  23141593  3000.0\n",
       "3  2019    13  Display       1  NaN  23141593  3000.0"
      ]
     },
     "execution_count": 89,
     "metadata": {},
     "output_type": "execute_result"
    }
   ],
   "source": [
    "promo_ad.head()"
   ]
  },
  {
   "cell_type": "code",
   "execution_count": 90,
   "metadata": {},
   "outputs": [],
   "source": [
    "# Split the promo_ad table by different vehicles\n",
    "promo_display = promo_ad[promo_ad['vehicle'] == 'Display']\n",
    "promo_fb = promo_ad[promo_ad['vehicle'] == 'Facebook Banner']\n",
    "promo_flyer = promo_ad[promo_ad['vehicle'] == 'Flyer']\n",
    "promo_google = promo_ad[promo_ad['vehicle'] == 'Google Paid Search']\n",
    "promo_radio = promo_ad[promo_ad['vehicle'] == 'Radio']\n",
    "promo_tv = promo_ad[promo_ad['vehicle'] == 'TV']"
   ]
  },
  {
   "cell_type": "code",
   "execution_count": 91,
   "metadata": {},
   "outputs": [
    {
     "data": {
      "text/html": [
       "<div>\n",
       "<style scoped>\n",
       "    .dataframe tbody tr th:only-of-type {\n",
       "        vertical-align: middle;\n",
       "    }\n",
       "\n",
       "    .dataframe tbody tr th {\n",
       "        vertical-align: top;\n",
       "    }\n",
       "\n",
       "    .dataframe thead th {\n",
       "        text-align: right;\n",
       "    }\n",
       "</style>\n",
       "<table border=\"1\" class=\"dataframe\">\n",
       "  <thead>\n",
       "    <tr style=\"text-align: right;\">\n",
       "      <th></th>\n",
       "      <th>year</th>\n",
       "      <th>week</th>\n",
       "      <th>amount</th>\n",
       "      <th>adstock_grp</th>\n",
       "      <th>Reach</th>\n",
       "    </tr>\n",
       "  </thead>\n",
       "  <tbody>\n",
       "    <tr>\n",
       "      <th>0</th>\n",
       "      <td>2019</td>\n",
       "      <td>1</td>\n",
       "      <td>0.0</td>\n",
       "      <td>0.000000</td>\n",
       "      <td>0.000000</td>\n",
       "    </tr>\n",
       "    <tr>\n",
       "      <th>1</th>\n",
       "      <td>2019</td>\n",
       "      <td>2</td>\n",
       "      <td>0.0</td>\n",
       "      <td>0.000000</td>\n",
       "      <td>0.000000</td>\n",
       "    </tr>\n",
       "    <tr>\n",
       "      <th>2</th>\n",
       "      <td>2019</td>\n",
       "      <td>3</td>\n",
       "      <td>15.0</td>\n",
       "      <td>3.094492</td>\n",
       "      <td>0.708450</td>\n",
       "    </tr>\n",
       "    <tr>\n",
       "      <th>3</th>\n",
       "      <td>2019</td>\n",
       "      <td>4</td>\n",
       "      <td>10.0</td>\n",
       "      <td>4.519095</td>\n",
       "      <td>0.806042</td>\n",
       "    </tr>\n",
       "    <tr>\n",
       "      <th>4</th>\n",
       "      <td>2019</td>\n",
       "      <td>5</td>\n",
       "      <td>5.0</td>\n",
       "      <td>4.618305</td>\n",
       "      <td>0.810589</td>\n",
       "    </tr>\n",
       "    <tr>\n",
       "      <th>...</th>\n",
       "      <td>...</td>\n",
       "      <td>...</td>\n",
       "      <td>...</td>\n",
       "      <td>...</td>\n",
       "      <td>...</td>\n",
       "    </tr>\n",
       "    <tr>\n",
       "      <th>99</th>\n",
       "      <td>2020</td>\n",
       "      <td>48</td>\n",
       "      <td>0.0</td>\n",
       "      <td>0.228426</td>\n",
       "      <td>0.097139</td>\n",
       "    </tr>\n",
       "    <tr>\n",
       "      <th>100</th>\n",
       "      <td>2020</td>\n",
       "      <td>49</td>\n",
       "      <td>0.0</td>\n",
       "      <td>0.181302</td>\n",
       "      <td>0.077997</td>\n",
       "    </tr>\n",
       "    <tr>\n",
       "      <th>101</th>\n",
       "      <td>2020</td>\n",
       "      <td>50</td>\n",
       "      <td>0.0</td>\n",
       "      <td>0.143899</td>\n",
       "      <td>0.062480</td>\n",
       "    </tr>\n",
       "    <tr>\n",
       "      <th>102</th>\n",
       "      <td>2020</td>\n",
       "      <td>51</td>\n",
       "      <td>0.0</td>\n",
       "      <td>0.114213</td>\n",
       "      <td>0.049956</td>\n",
       "    </tr>\n",
       "    <tr>\n",
       "      <th>103</th>\n",
       "      <td>2020</td>\n",
       "      <td>52</td>\n",
       "      <td>0.0</td>\n",
       "      <td>0.090651</td>\n",
       "      <td>0.039882</td>\n",
       "    </tr>\n",
       "  </tbody>\n",
       "</table>\n",
       "<p>104 rows × 5 columns</p>\n",
       "</div>"
      ],
      "text/plain": [
       "     year  week  amount  adstock_grp     Reach\n",
       "0    2019     1     0.0     0.000000  0.000000\n",
       "1    2019     2     0.0     0.000000  0.000000\n",
       "2    2019     3    15.0     3.094492  0.708450\n",
       "3    2019     4    10.0     4.519095  0.806042\n",
       "4    2019     5     5.0     4.618305  0.810589\n",
       "..    ...   ...     ...          ...       ...\n",
       "99   2020    48     0.0     0.228426  0.097139\n",
       "100  2020    49     0.0     0.181302  0.077997\n",
       "101  2020    50     0.0     0.143899  0.062480\n",
       "102  2020    51     0.0     0.114213  0.049956\n",
       "103  2020    52     0.0     0.090651  0.039882\n",
       "\n",
       "[104 rows x 5 columns]"
      ]
     },
     "execution_count": 91,
     "metadata": {},
     "output_type": "execute_result"
    }
   ],
   "source": [
    "# Reach Calculation: Radio and TV\n",
    "\n",
    "# Radio\n",
    "# Get the distinct time & GRP values\n",
    "radio_grp = promo_radio[['year', 'week', 'amount']].drop_duplicates().reset_index(drop=True)\n",
    "# Create a new year/week list\n",
    "years = radio_grp['year'].unique()\n",
    "weeks = list(range(1, 53))\n",
    "all_weeks = pd.DataFrame([(year, week) for year in years for week in weeks], columns=['year', 'week'])\n",
    "radio_grp = pd.merge(all_weeks, radio_grp, on=['year', 'week'], how='left').fillna(0)\n",
    "\n",
    "\n",
    "# Calculate decay parameter alpha\n",
    "half_life = 3\n",
    "alpha = 1 - (0.5) ** (1 / half_life)\n",
    "\n",
    "# Create & Calculate the adstock_grp\n",
    "radio_grp['adstock_grp'] = 0\n",
    "\n",
    "for i in range(len(radio_grp)):\n",
    "    if i == 0:\n",
    "        radio_grp.loc[i, 'adstock_grp'] = alpha * radio_grp.loc[i, 'amount']\n",
    "    else:\n",
    "        radio_grp.loc[i, 'adstock_grp'] = alpha * radio_grp.loc[i, 'amount'] + (1 - alpha) * radio_grp.loc[i - 1, 'adstock_grp']\n",
    "\n",
    "# Calculate the Reach\n",
    "radio_grp['Reach'] = 0.90 * (1 - np.exp(-0.5 * radio_grp['adstock_grp']))\n",
    "\n",
    "radio_grp"
   ]
  },
  {
   "cell_type": "code",
   "execution_count": 92,
   "metadata": {},
   "outputs": [
    {
     "data": {
      "text/html": [
       "<div>\n",
       "<style scoped>\n",
       "    .dataframe tbody tr th:only-of-type {\n",
       "        vertical-align: middle;\n",
       "    }\n",
       "\n",
       "    .dataframe tbody tr th {\n",
       "        vertical-align: top;\n",
       "    }\n",
       "\n",
       "    .dataframe thead th {\n",
       "        text-align: right;\n",
       "    }\n",
       "</style>\n",
       "<table border=\"1\" class=\"dataframe\">\n",
       "  <thead>\n",
       "    <tr style=\"text-align: right;\">\n",
       "      <th></th>\n",
       "      <th>year</th>\n",
       "      <th>week</th>\n",
       "      <th>amount</th>\n",
       "      <th>adstock_grp</th>\n",
       "      <th>Reach</th>\n",
       "    </tr>\n",
       "  </thead>\n",
       "  <tbody>\n",
       "    <tr>\n",
       "      <th>0</th>\n",
       "      <td>2019</td>\n",
       "      <td>1</td>\n",
       "      <td>30.0</td>\n",
       "      <td>3.273038</td>\n",
       "      <td>0.693470</td>\n",
       "    </tr>\n",
       "    <tr>\n",
       "      <th>1</th>\n",
       "      <td>2019</td>\n",
       "      <td>2</td>\n",
       "      <td>15.0</td>\n",
       "      <td>4.552465</td>\n",
       "      <td>0.796227</td>\n",
       "    </tr>\n",
       "    <tr>\n",
       "      <th>2</th>\n",
       "      <td>2019</td>\n",
       "      <td>3</td>\n",
       "      <td>15.0</td>\n",
       "      <td>5.692304</td>\n",
       "      <td>0.852530</td>\n",
       "    </tr>\n",
       "    <tr>\n",
       "      <th>3</th>\n",
       "      <td>2019</td>\n",
       "      <td>4</td>\n",
       "      <td>0.0</td>\n",
       "      <td>5.071267</td>\n",
       "      <td>0.825045</td>\n",
       "    </tr>\n",
       "    <tr>\n",
       "      <th>4</th>\n",
       "      <td>2019</td>\n",
       "      <td>5</td>\n",
       "      <td>0.0</td>\n",
       "      <td>4.517985</td>\n",
       "      <td>0.794092</td>\n",
       "    </tr>\n",
       "    <tr>\n",
       "      <th>...</th>\n",
       "      <td>...</td>\n",
       "      <td>...</td>\n",
       "      <td>...</td>\n",
       "      <td>...</td>\n",
       "      <td>...</td>\n",
       "    </tr>\n",
       "    <tr>\n",
       "      <th>99</th>\n",
       "      <td>2020</td>\n",
       "      <td>48</td>\n",
       "      <td>0.0</td>\n",
       "      <td>0.529314</td>\n",
       "      <td>0.181272</td>\n",
       "    </tr>\n",
       "    <tr>\n",
       "      <th>100</th>\n",
       "      <td>2020</td>\n",
       "      <td>49</td>\n",
       "      <td>0.0</td>\n",
       "      <td>0.471565</td>\n",
       "      <td>0.163309</td>\n",
       "    </tr>\n",
       "    <tr>\n",
       "      <th>101</th>\n",
       "      <td>2020</td>\n",
       "      <td>50</td>\n",
       "      <td>0.0</td>\n",
       "      <td>0.420116</td>\n",
       "      <td>0.146951</td>\n",
       "    </tr>\n",
       "    <tr>\n",
       "      <th>102</th>\n",
       "      <td>2020</td>\n",
       "      <td>51</td>\n",
       "      <td>0.0</td>\n",
       "      <td>0.374281</td>\n",
       "      <td>0.132092</td>\n",
       "    </tr>\n",
       "    <tr>\n",
       "      <th>103</th>\n",
       "      <td>2020</td>\n",
       "      <td>52</td>\n",
       "      <td>0.0</td>\n",
       "      <td>0.333447</td>\n",
       "      <td>0.118623</td>\n",
       "    </tr>\n",
       "  </tbody>\n",
       "</table>\n",
       "<p>104 rows × 5 columns</p>\n",
       "</div>"
      ],
      "text/plain": [
       "     year  week  amount  adstock_grp     Reach\n",
       "0    2019     1    30.0     3.273038  0.693470\n",
       "1    2019     2    15.0     4.552465  0.796227\n",
       "2    2019     3    15.0     5.692304  0.852530\n",
       "3    2019     4     0.0     5.071267  0.825045\n",
       "4    2019     5     0.0     4.517985  0.794092\n",
       "..    ...   ...     ...          ...       ...\n",
       "99   2020    48     0.0     0.529314  0.181272\n",
       "100  2020    49     0.0     0.471565  0.163309\n",
       "101  2020    50     0.0     0.420116  0.146951\n",
       "102  2020    51     0.0     0.374281  0.132092\n",
       "103  2020    52     0.0     0.333447  0.118623\n",
       "\n",
       "[104 rows x 5 columns]"
      ]
     },
     "execution_count": 92,
     "metadata": {},
     "output_type": "execute_result"
    }
   ],
   "source": [
    "# TV\n",
    "# Get the distinct time & GRP values\n",
    "tv_grp = promo_tv[['year', 'week', 'amount']].drop_duplicates().reset_index(drop=True)\n",
    "# Create a new year/week list\n",
    "years = tv_grp['year'].unique()\n",
    "weeks = list(range(1, 53))\n",
    "tv_grp = pd.merge(all_weeks, tv_grp, on=['year', 'week'], how='left').fillna(0)\n",
    "\n",
    "\n",
    "# Calculate decay parameter alpha\n",
    "half_life = 6\n",
    "alpha = 1 - (0.5) ** (1 / half_life)\n",
    "\n",
    "# Create & Calculate the adstock_grp\n",
    "tv_grp['adstock_grp'] = 0\n",
    "\n",
    "for i in range(len(tv_grp)):\n",
    "    if i == 0:\n",
    "        tv_grp.loc[i, 'adstock_grp'] = alpha * tv_grp.loc[i, 'amount']\n",
    "    else:\n",
    "        tv_grp.loc[i, 'adstock_grp'] = alpha * tv_grp.loc[i, 'amount'] + (1 - alpha) * tv_grp.loc[i - 1, 'adstock_grp']\n",
    "\n",
    "# Calculate the Reach\n",
    "tv_grp['Reach'] = 0.95 * (1 - np.exp(-0.4 * tv_grp['adstock_grp']))\n",
    "\n",
    "tv_grp"
   ]
  },
  {
   "attachments": {},
   "cell_type": "markdown",
   "metadata": {},
   "source": [
    "#### event_holiday"
   ]
  },
  {
   "cell_type": "code",
   "execution_count": 93,
   "metadata": {},
   "outputs": [],
   "source": [
    "# Manipulate the time format\n",
    "event_holiday['year'] = event_holiday['week'].dt.year\n",
    "event_holiday['week'] = event_holiday['week'].apply(lambda x: x.weekofyear if x.weekday() == 6 else x.weekofyear - 1)"
   ]
  },
  {
   "cell_type": "code",
   "execution_count": 94,
   "metadata": {},
   "outputs": [
    {
     "data": {
      "text/html": [
       "<div>\n",
       "<style scoped>\n",
       "    .dataframe tbody tr th:only-of-type {\n",
       "        vertical-align: middle;\n",
       "    }\n",
       "\n",
       "    .dataframe tbody tr th {\n",
       "        vertical-align: top;\n",
       "    }\n",
       "\n",
       "    .dataframe thead th {\n",
       "        text-align: right;\n",
       "    }\n",
       "</style>\n",
       "<table border=\"1\" class=\"dataframe\">\n",
       "  <thead>\n",
       "    <tr style=\"text-align: right;\">\n",
       "      <th></th>\n",
       "      <th>week</th>\n",
       "      <th>event_holiday</th>\n",
       "      <th>year</th>\n",
       "    </tr>\n",
       "  </thead>\n",
       "  <tbody>\n",
       "    <tr>\n",
       "      <th>0</th>\n",
       "      <td>52</td>\n",
       "      <td>New Year</td>\n",
       "      <td>2018</td>\n",
       "    </tr>\n",
       "    <tr>\n",
       "      <th>1</th>\n",
       "      <td>4</td>\n",
       "      <td>Pre Super Bowl</td>\n",
       "      <td>2019</td>\n",
       "    </tr>\n",
       "    <tr>\n",
       "      <th>2</th>\n",
       "      <td>5</td>\n",
       "      <td>Super Bowl</td>\n",
       "      <td>2019</td>\n",
       "    </tr>\n",
       "    <tr>\n",
       "      <th>3</th>\n",
       "      <td>15</td>\n",
       "      <td>Pre Easter</td>\n",
       "      <td>2019</td>\n",
       "    </tr>\n",
       "    <tr>\n",
       "      <th>4</th>\n",
       "      <td>16</td>\n",
       "      <td>Easter</td>\n",
       "      <td>2019</td>\n",
       "    </tr>\n",
       "    <tr>\n",
       "      <th>5</th>\n",
       "      <td>26</td>\n",
       "      <td>National Day</td>\n",
       "      <td>2019</td>\n",
       "    </tr>\n",
       "    <tr>\n",
       "      <th>6</th>\n",
       "      <td>35</td>\n",
       "      <td>Labor Day</td>\n",
       "      <td>2019</td>\n",
       "    </tr>\n",
       "    <tr>\n",
       "      <th>7</th>\n",
       "      <td>43</td>\n",
       "      <td>Halloween</td>\n",
       "      <td>2019</td>\n",
       "    </tr>\n",
       "    <tr>\n",
       "      <th>8</th>\n",
       "      <td>45</td>\n",
       "      <td>Memorial Day</td>\n",
       "      <td>2019</td>\n",
       "    </tr>\n",
       "    <tr>\n",
       "      <th>9</th>\n",
       "      <td>51</td>\n",
       "      <td>Christmas</td>\n",
       "      <td>2019</td>\n",
       "    </tr>\n",
       "    <tr>\n",
       "      <th>10</th>\n",
       "      <td>52</td>\n",
       "      <td>New Year</td>\n",
       "      <td>2019</td>\n",
       "    </tr>\n",
       "    <tr>\n",
       "      <th>11</th>\n",
       "      <td>4</td>\n",
       "      <td>Pre Super Bowl</td>\n",
       "      <td>2020</td>\n",
       "    </tr>\n",
       "    <tr>\n",
       "      <th>12</th>\n",
       "      <td>5</td>\n",
       "      <td>Super Bowl</td>\n",
       "      <td>2020</td>\n",
       "    </tr>\n",
       "    <tr>\n",
       "      <th>13</th>\n",
       "      <td>14</td>\n",
       "      <td>Pre Easter</td>\n",
       "      <td>2020</td>\n",
       "    </tr>\n",
       "    <tr>\n",
       "      <th>14</th>\n",
       "      <td>15</td>\n",
       "      <td>Easter</td>\n",
       "      <td>2020</td>\n",
       "    </tr>\n",
       "    <tr>\n",
       "      <th>15</th>\n",
       "      <td>26</td>\n",
       "      <td>National Day</td>\n",
       "      <td>2020</td>\n",
       "    </tr>\n",
       "    <tr>\n",
       "      <th>16</th>\n",
       "      <td>43</td>\n",
       "      <td>Halloween</td>\n",
       "      <td>2020</td>\n",
       "    </tr>\n",
       "    <tr>\n",
       "      <th>17</th>\n",
       "      <td>45</td>\n",
       "      <td>Memorial Day</td>\n",
       "      <td>2020</td>\n",
       "    </tr>\n",
       "    <tr>\n",
       "      <th>18</th>\n",
       "      <td>51</td>\n",
       "      <td>Christmas</td>\n",
       "      <td>2020</td>\n",
       "    </tr>\n",
       "  </tbody>\n",
       "</table>\n",
       "</div>"
      ],
      "text/plain": [
       "    week   event_holiday  year\n",
       "0     52        New Year  2018\n",
       "1      4  Pre Super Bowl  2019\n",
       "2      5      Super Bowl  2019\n",
       "3     15      Pre Easter  2019\n",
       "4     16          Easter  2019\n",
       "5     26    National Day  2019\n",
       "6     35       Labor Day  2019\n",
       "7     43       Halloween  2019\n",
       "8     45    Memorial Day  2019\n",
       "9     51       Christmas  2019\n",
       "10    52        New Year  2019\n",
       "11     4  Pre Super Bowl  2020\n",
       "12     5      Super Bowl  2020\n",
       "13    14      Pre Easter  2020\n",
       "14    15          Easter  2020\n",
       "15    26    National Day  2020\n",
       "16    43       Halloween  2020\n",
       "17    45    Memorial Day  2020\n",
       "18    51       Christmas  2020"
      ]
     },
     "execution_count": 94,
     "metadata": {},
     "output_type": "execute_result"
    }
   ],
   "source": [
    "event_holiday"
   ]
  },
  {
   "cell_type": "code",
   "execution_count": 95,
   "metadata": {},
   "outputs": [],
   "source": [
    "from sklearn.preprocessing import LabelEncoder\n",
    "le = LabelEncoder()\n",
    "event_holiday['event'] = le.fit_transform(event_holiday['event_holiday']) + 1"
   ]
  },
  {
   "cell_type": "code",
   "execution_count": 54,
   "metadata": {},
   "outputs": [],
   "source": [
    "event_holiday = event_holiday[['year', 'week', 'event_holiday', 'event']]"
   ]
  },
  {
   "cell_type": "code",
   "execution_count": 96,
   "metadata": {},
   "outputs": [
    {
     "name": "stderr",
     "output_type": "stream",
     "text": [
      "C:\\Users\\rochj\\AppData\\Local\\Temp\\ipykernel_680\\2908078989.py:5: FutureWarning: The frame.append method is deprecated and will be removed from pandas in a future version. Use pandas.concat instead.\n",
      "  event_holiday = event_holiday.append(new_year, ignore_index=True)\n"
     ]
    },
    {
     "data": {
      "text/html": [
       "<div>\n",
       "<style scoped>\n",
       "    .dataframe tbody tr th:only-of-type {\n",
       "        vertical-align: middle;\n",
       "    }\n",
       "\n",
       "    .dataframe tbody tr th {\n",
       "        vertical-align: top;\n",
       "    }\n",
       "\n",
       "    .dataframe thead th {\n",
       "        text-align: right;\n",
       "    }\n",
       "</style>\n",
       "<table border=\"1\" class=\"dataframe\">\n",
       "  <thead>\n",
       "    <tr style=\"text-align: right;\">\n",
       "      <th></th>\n",
       "      <th>week</th>\n",
       "      <th>event_holiday</th>\n",
       "      <th>year</th>\n",
       "      <th>event</th>\n",
       "    </tr>\n",
       "  </thead>\n",
       "  <tbody>\n",
       "    <tr>\n",
       "      <th>0</th>\n",
       "      <td>52</td>\n",
       "      <td>New Year</td>\n",
       "      <td>2018</td>\n",
       "      <td>7</td>\n",
       "    </tr>\n",
       "    <tr>\n",
       "      <th>1</th>\n",
       "      <td>4</td>\n",
       "      <td>Pre Super Bowl</td>\n",
       "      <td>2019</td>\n",
       "      <td>9</td>\n",
       "    </tr>\n",
       "    <tr>\n",
       "      <th>2</th>\n",
       "      <td>5</td>\n",
       "      <td>Super Bowl</td>\n",
       "      <td>2019</td>\n",
       "      <td>10</td>\n",
       "    </tr>\n",
       "    <tr>\n",
       "      <th>3</th>\n",
       "      <td>15</td>\n",
       "      <td>Pre Easter</td>\n",
       "      <td>2019</td>\n",
       "      <td>8</td>\n",
       "    </tr>\n",
       "    <tr>\n",
       "      <th>4</th>\n",
       "      <td>16</td>\n",
       "      <td>Easter</td>\n",
       "      <td>2019</td>\n",
       "      <td>2</td>\n",
       "    </tr>\n",
       "  </tbody>\n",
       "</table>\n",
       "</div>"
      ],
      "text/plain": [
       "   week   event_holiday  year  event\n",
       "0    52        New Year  2018      7\n",
       "1     4  Pre Super Bowl  2019      9\n",
       "2     5      Super Bowl  2019     10\n",
       "3    15      Pre Easter  2019      8\n",
       "4    16          Easter  2019      2"
      ]
     },
     "execution_count": 96,
     "metadata": {},
     "output_type": "execute_result"
    }
   ],
   "source": [
    "# Special case: New Year; add two weeks (2019 & 2020 Week 1) as New Year weeks\n",
    "new_year = pd.DataFrame([[2019, 1, 'New Year', 7],\n",
    "                         [2020, 1, 'New Year', 7]],\n",
    "                         columns=['year', 'week', 'event_holiday', 'event'])\n",
    "event_holiday = event_holiday.append(new_year, ignore_index=True)\n",
    "event_holiday.head()"
   ]
  },
  {
   "attachments": {},
   "cell_type": "markdown",
   "metadata": {},
   "source": [
    "## Data Merge"
   ]
  },
  {
   "cell_type": "code",
   "execution_count": 98,
   "metadata": {},
   "outputs": [
    {
     "data": {
      "text/plain": [
       "year          0\n",
       "week          0\n",
       "prod_id       0\n",
       "sales_qty     0\n",
       "sales_amt     0\n",
       "seas_index    4\n",
       "dtype: int64"
      ]
     },
     "execution_count": 98,
     "metadata": {},
     "output_type": "execute_result"
    }
   ],
   "source": [
    "# Merge seasonality\n",
    "df = pd.merge(trans_week, seasonality, on=['year', 'week'], how='left')\n",
    "# Check the missing values\n",
    "df.isna().sum()"
   ]
  },
  {
   "cell_type": "code",
   "execution_count": 99,
   "metadata": {},
   "outputs": [],
   "source": [
    "# missing weeks for the end of 2020; fill with 1\n",
    "df = df.fillna(1)"
   ]
  },
  {
   "cell_type": "code",
   "execution_count": 100,
   "metadata": {},
   "outputs": [
    {
     "data": {
      "text/plain": [
       "year            0\n",
       "week            0\n",
       "prod_id         0\n",
       "sales_qty       0\n",
       "sales_amt       0\n",
       "seas_index      0\n",
       "event         166\n",
       "dtype: int64"
      ]
     },
     "execution_count": 100,
     "metadata": {},
     "output_type": "execute_result"
    }
   ],
   "source": [
    "# Merge event\n",
    "df = pd.merge(df, event_holiday[['year', 'week', 'event']], on=['year', 'week'], how='left')\n",
    "df.isna().sum()"
   ]
  },
  {
   "cell_type": "code",
   "execution_count": 101,
   "metadata": {},
   "outputs": [],
   "source": [
    "# Fill na with 0 (0 represents \"no events\")\n",
    "df = df.fillna(0)"
   ]
  },
  {
   "cell_type": "code",
   "execution_count": 102,
   "metadata": {},
   "outputs": [],
   "source": [
    "# Merge promo: display; 1 for display, 0 for non-display\n",
    "df = pd.merge(df, promo_display[['year', 'week', 'prod_id', 'amount']], on=['year', 'week', 'prod_id'], how='left').fillna(0)\n",
    "# Rename the amount column\n",
    "df.rename(columns = {'amount': 'promo_display'}, inplace = True)"
   ]
  },
  {
   "cell_type": "code",
   "execution_count": 103,
   "metadata": {},
   "outputs": [],
   "source": [
    "# Merge other promo tables\n",
    "df = pd.merge(df, promo_fb[['year', 'week', 'prod_id', 'amount']], on=['year', 'week', 'prod_id'], how='left').fillna(0)\n",
    "df.rename(columns = {'amount': 'promo_fb'}, inplace = True)"
   ]
  },
  {
   "cell_type": "code",
   "execution_count": 104,
   "metadata": {},
   "outputs": [],
   "source": [
    "df = pd.merge(df, promo_flyer[['year', 'week', 'prod_id', 'amount']], on=['year', 'week', 'prod_id'], how='left').fillna(0)\n",
    "df.rename(columns = {'amount': 'promo_flyer'}, inplace = True)"
   ]
  },
  {
   "cell_type": "code",
   "execution_count": 105,
   "metadata": {},
   "outputs": [],
   "source": [
    "df = pd.merge(df, promo_google[['year', 'week', 'prod_id', 'amount']], on=['year', 'week', 'prod_id'], how='left').fillna(0)\n",
    "df.rename(columns = {'amount': 'promo_google'}, inplace = True)"
   ]
  },
  {
   "cell_type": "code",
   "execution_count": 106,
   "metadata": {},
   "outputs": [],
   "source": [
    "# Use the calculated Reach for radio and tv; no need to join by prod_id since they are promotion approaches for both products all the time\n",
    "df = pd.merge(df, radio_grp[['year', 'week', 'Reach']], on=['year', 'week'], how='left')\n",
    "df.rename(columns = {'Reach': 'promo_radio_reach'}, inplace = True)"
   ]
  },
  {
   "cell_type": "code",
   "execution_count": 107,
   "metadata": {},
   "outputs": [],
   "source": [
    "df = pd.merge(df, tv_grp[['year', 'week', 'Reach']], on=['year', 'week'], how='left')\n",
    "df.rename(columns = {'Reach': 'promo_tv_reach'}, inplace = True)"
   ]
  },
  {
   "cell_type": "code",
   "execution_count": 110,
   "metadata": {},
   "outputs": [],
   "source": [
    "df = df.fillna(0)"
   ]
  },
  {
   "cell_type": "code",
   "execution_count": 111,
   "metadata": {},
   "outputs": [
    {
     "data": {
      "text/html": [
       "<div>\n",
       "<style scoped>\n",
       "    .dataframe tbody tr th:only-of-type {\n",
       "        vertical-align: middle;\n",
       "    }\n",
       "\n",
       "    .dataframe tbody tr th {\n",
       "        vertical-align: top;\n",
       "    }\n",
       "\n",
       "    .dataframe thead th {\n",
       "        text-align: right;\n",
       "    }\n",
       "</style>\n",
       "<table border=\"1\" class=\"dataframe\">\n",
       "  <thead>\n",
       "    <tr style=\"text-align: right;\">\n",
       "      <th></th>\n",
       "      <th>year</th>\n",
       "      <th>week</th>\n",
       "      <th>prod_id</th>\n",
       "      <th>sales_qty</th>\n",
       "      <th>sales_amt</th>\n",
       "      <th>seas_index</th>\n",
       "      <th>event</th>\n",
       "      <th>promo_display</th>\n",
       "      <th>promo_fb</th>\n",
       "      <th>promo_flyer</th>\n",
       "      <th>promo_google</th>\n",
       "      <th>promo_radio_reach</th>\n",
       "      <th>promo_tv_reach</th>\n",
       "    </tr>\n",
       "  </thead>\n",
       "  <tbody>\n",
       "    <tr>\n",
       "      <th>0</th>\n",
       "      <td>2019</td>\n",
       "      <td>0</td>\n",
       "      <td>23141592</td>\n",
       "      <td>264</td>\n",
       "      <td>1185.36</td>\n",
       "      <td>1.000000</td>\n",
       "      <td>0.0</td>\n",
       "      <td>0.0</td>\n",
       "      <td>0.0</td>\n",
       "      <td>0.0</td>\n",
       "      <td>0.0</td>\n",
       "      <td>0.000000</td>\n",
       "      <td>0.000000</td>\n",
       "    </tr>\n",
       "    <tr>\n",
       "      <th>1</th>\n",
       "      <td>2019</td>\n",
       "      <td>0</td>\n",
       "      <td>23141593</td>\n",
       "      <td>87</td>\n",
       "      <td>1217.13</td>\n",
       "      <td>1.000000</td>\n",
       "      <td>0.0</td>\n",
       "      <td>0.0</td>\n",
       "      <td>0.0</td>\n",
       "      <td>0.0</td>\n",
       "      <td>0.0</td>\n",
       "      <td>0.000000</td>\n",
       "      <td>0.000000</td>\n",
       "    </tr>\n",
       "    <tr>\n",
       "      <th>2</th>\n",
       "      <td>2019</td>\n",
       "      <td>4</td>\n",
       "      <td>23141592</td>\n",
       "      <td>1886</td>\n",
       "      <td>7525.14</td>\n",
       "      <td>0.870610</td>\n",
       "      <td>9.0</td>\n",
       "      <td>1.0</td>\n",
       "      <td>98373.0</td>\n",
       "      <td>1.0</td>\n",
       "      <td>8611.0</td>\n",
       "      <td>0.806042</td>\n",
       "      <td>0.825045</td>\n",
       "    </tr>\n",
       "    <tr>\n",
       "      <th>3</th>\n",
       "      <td>2019</td>\n",
       "      <td>4</td>\n",
       "      <td>23141593</td>\n",
       "      <td>2465</td>\n",
       "      <td>24625.35</td>\n",
       "      <td>0.870610</td>\n",
       "      <td>9.0</td>\n",
       "      <td>1.0</td>\n",
       "      <td>98373.0</td>\n",
       "      <td>1.0</td>\n",
       "      <td>8611.0</td>\n",
       "      <td>0.806042</td>\n",
       "      <td>0.825045</td>\n",
       "    </tr>\n",
       "    <tr>\n",
       "      <th>4</th>\n",
       "      <td>2019</td>\n",
       "      <td>5</td>\n",
       "      <td>23141592</td>\n",
       "      <td>777</td>\n",
       "      <td>3877.23</td>\n",
       "      <td>0.927523</td>\n",
       "      <td>10.0</td>\n",
       "      <td>0.0</td>\n",
       "      <td>31001.0</td>\n",
       "      <td>0.0</td>\n",
       "      <td>8245.0</td>\n",
       "      <td>0.810589</td>\n",
       "      <td>0.794092</td>\n",
       "    </tr>\n",
       "  </tbody>\n",
       "</table>\n",
       "</div>"
      ],
      "text/plain": [
       "   year  week   prod_id  sales_qty  sales_amt  seas_index  event  \\\n",
       "0  2019     0  23141592        264    1185.36    1.000000    0.0   \n",
       "1  2019     0  23141593         87    1217.13    1.000000    0.0   \n",
       "2  2019     4  23141592       1886    7525.14    0.870610    9.0   \n",
       "3  2019     4  23141593       2465   24625.35    0.870610    9.0   \n",
       "4  2019     5  23141592        777    3877.23    0.927523   10.0   \n",
       "\n",
       "   promo_display  promo_fb  promo_flyer  promo_google  promo_radio_reach  \\\n",
       "0            0.0       0.0          0.0           0.0           0.000000   \n",
       "1            0.0       0.0          0.0           0.0           0.000000   \n",
       "2            1.0   98373.0          1.0        8611.0           0.806042   \n",
       "3            1.0   98373.0          1.0        8611.0           0.806042   \n",
       "4            0.0   31001.0          0.0        8245.0           0.810589   \n",
       "\n",
       "   promo_tv_reach  \n",
       "0        0.000000  \n",
       "1        0.000000  \n",
       "2        0.825045  \n",
       "3        0.825045  \n",
       "4        0.794092  "
      ]
     },
     "execution_count": 111,
     "metadata": {},
     "output_type": "execute_result"
    }
   ],
   "source": [
    "# Overview of the dataset for modeling\n",
    "df.head()"
   ]
  },
  {
   "attachments": {},
   "cell_type": "markdown",
   "metadata": {},
   "source": [
    "## Modeling"
   ]
  },
  {
   "cell_type": "code",
   "execution_count": 113,
   "metadata": {},
   "outputs": [],
   "source": [
    "df = df.drop('sales_qty', axis = 1)"
   ]
  },
  {
   "cell_type": "code",
   "execution_count": 167,
   "metadata": {},
   "outputs": [],
   "source": [
    "# Split the dataset\n",
    "df1 = df[df['prod_id'] == 23141592]\n",
    "df2 = df[df['prod_id'] == 23141593]"
   ]
  },
  {
   "cell_type": "code",
   "execution_count": 114,
   "metadata": {},
   "outputs": [],
   "source": [
    "formula = 'sales_amt ~ seas_index + event + promo_display + promo_fb + promo_flyer + promo_google + promo_radio_reach + promo_tv_reach'"
   ]
  },
  {
   "cell_type": "code",
   "execution_count": 118,
   "metadata": {},
   "outputs": [],
   "source": [
    "import statsmodels.formula.api as smf\n",
    "model1 = smf.ols(formula=formula, data=df1).fit()\n",
    "model2 = smf.ols(formula=formula, data=df2).fit()"
   ]
  },
  {
   "cell_type": "code",
   "execution_count": 119,
   "metadata": {},
   "outputs": [
    {
     "name": "stdout",
     "output_type": "stream",
     "text": [
      "                            OLS Regression Results                            \n",
      "==============================================================================\n",
      "Dep. Variable:              sales_amt   R-squared:                       0.841\n",
      "Model:                            OLS   Adj. R-squared:                  0.828\n",
      "Method:                 Least Squares   F-statistic:                     61.63\n",
      "Date:                Mon, 17 Apr 2023   Prob (F-statistic):           7.65e-34\n",
      "Time:                        14:47:55   Log-Likelihood:                -837.35\n",
      "No. Observations:                 102   AIC:                             1693.\n",
      "Df Residuals:                      93   BIC:                             1716.\n",
      "Df Model:                           8                                         \n",
      "Covariance Type:            nonrobust                                         \n",
      "=====================================================================================\n",
      "                        coef    std err          t      P>|t|      [0.025      0.975]\n",
      "-------------------------------------------------------------------------------------\n",
      "Intercept         -2303.6310    615.603     -3.742      0.000   -3526.097   -1081.165\n",
      "seas_index         4651.2116    648.759      7.169      0.000    3362.905    5939.518\n",
      "event                45.0993     40.080      1.125      0.263     -34.492     124.691\n",
      "promo_display      1238.2646   1076.447      1.150      0.253    -899.346    3375.876\n",
      "promo_fb             -0.0083      0.004     -2.237      0.028      -0.016      -0.001\n",
      "promo_flyer        2515.5050    243.207     10.343      0.000    2032.544    2998.466\n",
      "promo_google          0.1136      0.032      3.552      0.001       0.050       0.177\n",
      "promo_radio_reach  1269.3378    330.167      3.845      0.000     613.691    1924.985\n",
      "promo_tv_reach      526.3662    389.084      1.353      0.179    -246.277    1299.010\n",
      "==============================================================================\n",
      "Omnibus:                       39.960   Durbin-Watson:                   1.021\n",
      "Prob(Omnibus):                  0.000   Jarque-Bera (JB):              177.937\n",
      "Skew:                           1.167   Prob(JB):                     2.30e-39\n",
      "Kurtosis:                       9.035   Cond. No.                     3.69e+05\n",
      "==============================================================================\n",
      "\n",
      "Notes:\n",
      "[1] Standard Errors assume that the covariance matrix of the errors is correctly specified.\n",
      "[2] The condition number is large, 3.69e+05. This might indicate that there are\n",
      "strong multicollinearity or other numerical problems.\n"
     ]
    }
   ],
   "source": [
    "print(model1.summary())"
   ]
  },
  {
   "cell_type": "code",
   "execution_count": 120,
   "metadata": {},
   "outputs": [
    {
     "name": "stdout",
     "output_type": "stream",
     "text": [
      "                            OLS Regression Results                            \n",
      "==============================================================================\n",
      "Dep. Variable:              sales_amt   R-squared:                       0.708\n",
      "Model:                            OLS   Adj. R-squared:                  0.683\n",
      "Method:                 Least Squares   F-statistic:                     28.20\n",
      "Date:                Mon, 17 Apr 2023   Prob (F-statistic):           9.37e-22\n",
      "Time:                        14:48:19   Log-Likelihood:                -937.91\n",
      "No. Observations:                 102   AIC:                             1894.\n",
      "Df Residuals:                      93   BIC:                             1917.\n",
      "Df Model:                           8                                         \n",
      "Covariance Type:            nonrobust                                         \n",
      "=====================================================================================\n",
      "                        coef    std err          t      P>|t|      [0.025      0.975]\n",
      "-------------------------------------------------------------------------------------\n",
      "Intercept         -2715.7394   1651.953     -1.644      0.104   -5996.191     564.713\n",
      "seas_index         3248.5052   1720.799      1.888      0.062    -168.661    6665.672\n",
      "event               354.2718    102.701      3.450      0.001     150.329     558.215\n",
      "promo_display      1699.8912    667.585      2.546      0.013     374.199    3025.583\n",
      "promo_fb             -0.0081      0.010     -0.835      0.406      -0.028       0.011\n",
      "promo_flyer        2676.6656    644.098      4.156      0.000    1397.614    3955.718\n",
      "promo_google          0.5402      0.086      6.257      0.000       0.369       0.712\n",
      "promo_radio_reach  2596.0152    878.262      2.956      0.004     851.960    4340.070\n",
      "promo_tv_reach     1037.3020   1057.834      0.981      0.329   -1063.348    3137.952\n",
      "==============================================================================\n",
      "Omnibus:                       35.889   Durbin-Watson:                   1.113\n",
      "Prob(Omnibus):                  0.000   Jarque-Bera (JB):               82.363\n",
      "Skew:                           1.325   Prob(JB):                     1.30e-18\n",
      "Kurtosis:                       6.515   Cond. No.                     2.94e+05\n",
      "==============================================================================\n",
      "\n",
      "Notes:\n",
      "[1] Standard Errors assume that the covariance matrix of the errors is correctly specified.\n",
      "[2] The condition number is large, 2.94e+05. This might indicate that there are\n",
      "strong multicollinearity or other numerical problems.\n"
     ]
    }
   ],
   "source": [
    "print(model2.summary())"
   ]
  },
  {
   "cell_type": "code",
   "execution_count": 123,
   "metadata": {},
   "outputs": [
    {
     "name": "stderr",
     "output_type": "stream",
     "text": [
      "C:\\Users\\rochj\\AppData\\Local\\Temp\\ipykernel_680\\668758647.py:2: SettingWithCopyWarning: \n",
      "A value is trying to be set on a copy of a slice from a DataFrame.\n",
      "Try using .loc[row_indexer,col_indexer] = value instead\n",
      "\n",
      "See the caveats in the documentation: https://pandas.pydata.org/pandas-docs/stable/user_guide/indexing.html#returning-a-view-versus-a-copy\n",
      "  df1['log_sales'] = df1['sales_amt'].apply(np.log)\n",
      "C:\\Users\\rochj\\AppData\\Local\\Temp\\ipykernel_680\\668758647.py:3: SettingWithCopyWarning: \n",
      "A value is trying to be set on a copy of a slice from a DataFrame.\n",
      "Try using .loc[row_indexer,col_indexer] = value instead\n",
      "\n",
      "See the caveats in the documentation: https://pandas.pydata.org/pandas-docs/stable/user_guide/indexing.html#returning-a-view-versus-a-copy\n",
      "  df2['log_sales'] = df2['sales_amt'].apply(np.log)\n"
     ]
    }
   ],
   "source": [
    "# log tranformation for y\n",
    "df1['log_sales'] = df1['sales_amt'].apply(np.log)\n",
    "df2['log_sales'] = df2['sales_amt'].apply(np.log)"
   ]
  },
  {
   "cell_type": "code",
   "execution_count": 125,
   "metadata": {},
   "outputs": [],
   "source": [
    "formula2 = 'log_sales ~ seas_index + event + promo_display + promo_fb + promo_flyer + promo_google + promo_radio_reach + promo_tv_reach'\n",
    "logmodel1 = smf.ols(formula=formula2, data=df1).fit()\n",
    "logmodel2 = smf.ols(formula=formula2, data=df2).fit()"
   ]
  },
  {
   "cell_type": "code",
   "execution_count": 126,
   "metadata": {},
   "outputs": [
    {
     "name": "stdout",
     "output_type": "stream",
     "text": [
      "                            OLS Regression Results                            \n",
      "==============================================================================\n",
      "Dep. Variable:              log_sales   R-squared:                       0.827\n",
      "Model:                            OLS   Adj. R-squared:                  0.812\n",
      "Method:                 Least Squares   F-statistic:                     55.44\n",
      "Date:                Mon, 17 Apr 2023   Prob (F-statistic):           4.43e-32\n",
      "Time:                        15:04:41   Log-Likelihood:                 10.776\n",
      "No. Observations:                 102   AIC:                            -3.551\n",
      "Df Residuals:                      93   BIC:                             20.07\n",
      "Df Model:                           8                                         \n",
      "Covariance Type:            nonrobust                                         \n",
      "=====================================================================================\n",
      "                        coef    std err          t      P>|t|      [0.025      0.975]\n",
      "-------------------------------------------------------------------------------------\n",
      "Intercept             6.5970      0.151     43.772      0.000       6.298       6.896\n",
      "seas_index            1.1053      0.159      6.959      0.000       0.790       1.421\n",
      "event                -0.0085      0.010     -0.868      0.388      -0.028       0.011\n",
      "promo_display         0.3219      0.264      1.221      0.225      -0.201       0.845\n",
      "promo_fb          -1.195e-06   9.08e-07     -1.316      0.191      -3e-06    6.08e-07\n",
      "promo_flyer           0.5004      0.060      8.405      0.000       0.382       0.619\n",
      "promo_google       2.542e-05   7.83e-06      3.245      0.002    9.86e-06     4.1e-05\n",
      "promo_radio_reach     0.3274      0.081      4.050      0.000       0.167       0.488\n",
      "promo_tv_reach        0.3102      0.095      3.256      0.002       0.121       0.499\n",
      "==============================================================================\n",
      "Omnibus:                      106.179   Durbin-Watson:                   1.142\n",
      "Prob(Omnibus):                  0.000   Jarque-Bera (JB):             1885.782\n",
      "Skew:                          -3.297   Prob(JB):                         0.00\n",
      "Kurtosis:                      23.006   Cond. No.                     3.69e+05\n",
      "==============================================================================\n",
      "\n",
      "Notes:\n",
      "[1] Standard Errors assume that the covariance matrix of the errors is correctly specified.\n",
      "[2] The condition number is large, 3.69e+05. This might indicate that there are\n",
      "strong multicollinearity or other numerical problems.\n"
     ]
    }
   ],
   "source": [
    "print(logmodel1.summary())"
   ]
  },
  {
   "cell_type": "code",
   "execution_count": 127,
   "metadata": {},
   "outputs": [
    {
     "name": "stdout",
     "output_type": "stream",
     "text": [
      "                            OLS Regression Results                            \n",
      "==============================================================================\n",
      "Dep. Variable:              log_sales   R-squared:                       0.837\n",
      "Model:                            OLS   Adj. R-squared:                  0.823\n",
      "Method:                 Least Squares   F-statistic:                     59.68\n",
      "Date:                Mon, 17 Apr 2023   Prob (F-statistic):           2.64e-33\n",
      "Time:                        15:04:49   Log-Likelihood:                -37.017\n",
      "No. Observations:                 102   AIC:                             92.03\n",
      "Df Residuals:                      93   BIC:                             115.7\n",
      "Df Model:                           8                                         \n",
      "Covariance Type:            nonrobust                                         \n",
      "=====================================================================================\n",
      "                        coef    std err          t      P>|t|      [0.025      0.975]\n",
      "-------------------------------------------------------------------------------------\n",
      "Intercept             5.8746      0.241     24.366      0.000       5.396       6.353\n",
      "seas_index            1.2882      0.251      5.129      0.000       0.789       1.787\n",
      "event                 0.0368      0.015      2.452      0.016       0.007       0.067\n",
      "promo_display         0.2982      0.097      3.061      0.003       0.105       0.492\n",
      "promo_fb          -5.188e-07   1.42e-06     -0.365      0.716   -3.35e-06    2.31e-06\n",
      "promo_flyer           0.4148      0.094      4.413      0.000       0.228       0.602\n",
      "promo_google          0.0001   1.26e-05      7.972      0.000    7.54e-05       0.000\n",
      "promo_radio_reach     0.4125      0.128      3.218      0.002       0.158       0.667\n",
      "promo_tv_reach        0.6376      0.154      4.130      0.000       0.331       0.944\n",
      "==============================================================================\n",
      "Omnibus:                       14.162   Durbin-Watson:                   1.195\n",
      "Prob(Omnibus):                  0.001   Jarque-Bera (JB):               46.765\n",
      "Skew:                           0.207   Prob(JB):                     7.00e-11\n",
      "Kurtosis:                       6.291   Cond. No.                     2.94e+05\n",
      "==============================================================================\n",
      "\n",
      "Notes:\n",
      "[1] Standard Errors assume that the covariance matrix of the errors is correctly specified.\n",
      "[2] The condition number is large, 2.94e+05. This might indicate that there are\n",
      "strong multicollinearity or other numerical problems.\n"
     ]
    }
   ],
   "source": [
    "print(logmodel2.summary())"
   ]
  },
  {
   "attachments": {},
   "cell_type": "markdown",
   "metadata": {},
   "source": [
    "## Deployment"
   ]
  },
  {
   "attachments": {},
   "cell_type": "markdown",
   "metadata": {},
   "source": [
    "#### Product 1 (Single Beer); We use addictive model for this"
   ]
  },
  {
   "cell_type": "code",
   "execution_count": 129,
   "metadata": {},
   "outputs": [
    {
     "name": "stderr",
     "output_type": "stream",
     "text": [
      "C:\\Users\\rochj\\AppData\\Local\\Temp\\ipykernel_680\\1987188241.py:4: SettingWithCopyWarning: \n",
      "A value is trying to be set on a copy of a slice from a DataFrame.\n",
      "Try using .loc[row_indexer,col_indexer] = value instead\n",
      "\n",
      "See the caveats in the documentation: https://pandas.pydata.org/pandas-docs/stable/user_guide/indexing.html#returning-a-view-versus-a-copy\n",
      "  df1['DueTo_promo_display'] = beta_promo_display * df1['promo_display']\n"
     ]
    }
   ],
   "source": [
    "# Calculate the DueTos\n",
    "beta_promo_display = model1.params['promo_display']\n",
    "df1['DueTo_promo_display'] = beta_promo_display * df1['promo_display']"
   ]
  },
  {
   "cell_type": "code",
   "execution_count": 133,
   "metadata": {},
   "outputs": [
    {
     "name": "stderr",
     "output_type": "stream",
     "text": [
      "C:\\Users\\rochj\\AppData\\Local\\Temp\\ipykernel_680\\3502036293.py:2: SettingWithCopyWarning: \n",
      "A value is trying to be set on a copy of a slice from a DataFrame.\n",
      "Try using .loc[row_indexer,col_indexer] = value instead\n",
      "\n",
      "See the caveats in the documentation: https://pandas.pydata.org/pandas-docs/stable/user_guide/indexing.html#returning-a-view-versus-a-copy\n",
      "  df1['DueTo_promo_fb'] = beta_promo_fb * df1['promo_fb']\n"
     ]
    }
   ],
   "source": [
    "beta_promo_fb = model1.params['promo_fb']\n",
    "df1['DueTo_promo_fb'] = beta_promo_fb * df1['promo_fb']"
   ]
  },
  {
   "cell_type": "code",
   "execution_count": 136,
   "metadata": {},
   "outputs": [
    {
     "name": "stderr",
     "output_type": "stream",
     "text": [
      "C:\\Users\\rochj\\AppData\\Local\\Temp\\ipykernel_680\\940638336.py:2: SettingWithCopyWarning: \n",
      "A value is trying to be set on a copy of a slice from a DataFrame.\n",
      "Try using .loc[row_indexer,col_indexer] = value instead\n",
      "\n",
      "See the caveats in the documentation: https://pandas.pydata.org/pandas-docs/stable/user_guide/indexing.html#returning-a-view-versus-a-copy\n",
      "  df1['DueTo_promo_flyer'] = beta_promo_flyer * df1['promo_flyer']\n",
      "C:\\Users\\rochj\\AppData\\Local\\Temp\\ipykernel_680\\940638336.py:5: SettingWithCopyWarning: \n",
      "A value is trying to be set on a copy of a slice from a DataFrame.\n",
      "Try using .loc[row_indexer,col_indexer] = value instead\n",
      "\n",
      "See the caveats in the documentation: https://pandas.pydata.org/pandas-docs/stable/user_guide/indexing.html#returning-a-view-versus-a-copy\n",
      "  df1['DueTo_promo_gg'] = beta_promo_gg * df1['promo_google']\n",
      "C:\\Users\\rochj\\AppData\\Local\\Temp\\ipykernel_680\\940638336.py:8: SettingWithCopyWarning: \n",
      "A value is trying to be set on a copy of a slice from a DataFrame.\n",
      "Try using .loc[row_indexer,col_indexer] = value instead\n",
      "\n",
      "See the caveats in the documentation: https://pandas.pydata.org/pandas-docs/stable/user_guide/indexing.html#returning-a-view-versus-a-copy\n",
      "  df1['DueTo_promo_radio'] = beta_promo_radio * df1['promo_radio_reach']\n",
      "C:\\Users\\rochj\\AppData\\Local\\Temp\\ipykernel_680\\940638336.py:11: SettingWithCopyWarning: \n",
      "A value is trying to be set on a copy of a slice from a DataFrame.\n",
      "Try using .loc[row_indexer,col_indexer] = value instead\n",
      "\n",
      "See the caveats in the documentation: https://pandas.pydata.org/pandas-docs/stable/user_guide/indexing.html#returning-a-view-versus-a-copy\n",
      "  df1['DueTo_promo_tv'] = beta_promo_tv * df1['promo_tv_reach']\n"
     ]
    }
   ],
   "source": [
    "beta_promo_flyer = model1.params['promo_flyer']\n",
    "df1['DueTo_promo_flyer'] = beta_promo_flyer * df1['promo_flyer']\n",
    "\n",
    "beta_promo_gg = model1.params['promo_google']\n",
    "df1['DueTo_promo_gg'] = beta_promo_gg * df1['promo_google']\n",
    "\n",
    "beta_promo_radio = model1.params['promo_radio_reach']\n",
    "df1['DueTo_promo_radio'] = beta_promo_radio * df1['promo_radio_reach']\n",
    "\n",
    "beta_promo_tv = model1.params['promo_tv_reach']\n",
    "df1['DueTo_promo_tv'] = beta_promo_tv * df1['promo_tv_reach']"
   ]
  },
  {
   "cell_type": "code",
   "execution_count": 140,
   "metadata": {},
   "outputs": [
    {
     "data": {
      "text/plain": [
       "1238.2645961299067"
      ]
     },
     "execution_count": 140,
     "metadata": {},
     "output_type": "execute_result"
    }
   ],
   "source": [
    "df1['DueTo_promo_display'].sum()"
   ]
  },
  {
   "cell_type": "code",
   "execution_count": 141,
   "metadata": {},
   "outputs": [
    {
     "data": {
      "text/plain": [
       "-11615.413218409272"
      ]
     },
     "execution_count": 141,
     "metadata": {},
     "output_type": "execute_result"
    }
   ],
   "source": [
    "df1['DueTo_promo_fb'].sum()"
   ]
  },
  {
   "cell_type": "code",
   "execution_count": 142,
   "metadata": {},
   "outputs": [
    {
     "data": {
      "text/plain": [
       "62887.62399384918"
      ]
     },
     "execution_count": 142,
     "metadata": {},
     "output_type": "execute_result"
    }
   ],
   "source": [
    "df1['DueTo_promo_flyer'].sum()"
   ]
  },
  {
   "cell_type": "code",
   "execution_count": 143,
   "metadata": {},
   "outputs": [
    {
     "data": {
      "text/plain": [
       "33196.72243146848"
      ]
     },
     "execution_count": 143,
     "metadata": {},
     "output_type": "execute_result"
    }
   ],
   "source": [
    "df1['DueTo_promo_gg'].sum()"
   ]
  },
  {
   "cell_type": "code",
   "execution_count": 144,
   "metadata": {},
   "outputs": [
    {
     "data": {
      "text/plain": [
       "50037.54837462617"
      ]
     },
     "execution_count": 144,
     "metadata": {},
     "output_type": "execute_result"
    }
   ],
   "source": [
    "df1['DueTo_promo_radio'].sum()"
   ]
  },
  {
   "cell_type": "code",
   "execution_count": 145,
   "metadata": {},
   "outputs": [
    {
     "data": {
      "text/plain": [
       "26384.640443794848"
      ]
     },
     "execution_count": 145,
     "metadata": {},
     "output_type": "execute_result"
    }
   ],
   "source": [
    "df1['DueTo_promo_tv'].sum()"
   ]
  },
  {
   "cell_type": "code",
   "execution_count": 147,
   "metadata": {},
   "outputs": [
    {
     "data": {
      "text/plain": [
       "1500.0"
      ]
     },
     "execution_count": 147,
     "metadata": {},
     "output_type": "execute_result"
    }
   ],
   "source": [
    "# Compared with the Cost\n",
    "promo_ad1 = promo_ad[promo_ad['prod_id'] == 23141592]\n",
    "promo_ad1[promo_ad1['vehicle'] == 'Display']['cost'].sum()"
   ]
  },
  {
   "cell_type": "code",
   "execution_count": 148,
   "metadata": {},
   "outputs": [
    {
     "data": {
      "text/plain": [
       "28445.25"
      ]
     },
     "execution_count": 148,
     "metadata": {},
     "output_type": "execute_result"
    }
   ],
   "source": [
    "promo_ad1[promo_ad1['vehicle'] == 'Facebook Banner']['cost'].sum()"
   ]
  },
  {
   "cell_type": "code",
   "execution_count": 149,
   "metadata": {},
   "outputs": [
    {
     "data": {
      "text/plain": [
       "32875.0"
      ]
     },
     "execution_count": 149,
     "metadata": {},
     "output_type": "execute_result"
    }
   ],
   "source": [
    "promo_ad1[promo_ad1['vehicle'] == 'Flyer']['cost'].sum()"
   ]
  },
  {
   "cell_type": "code",
   "execution_count": 150,
   "metadata": {},
   "outputs": [
    {
     "data": {
      "text/plain": [
       "37464.5"
      ]
     },
     "execution_count": 150,
     "metadata": {},
     "output_type": "execute_result"
    }
   ],
   "source": [
    "promo_ad1[promo_ad1['vehicle'] == 'Google Paid Search']['cost'].sum()"
   ]
  },
  {
   "cell_type": "code",
   "execution_count": 151,
   "metadata": {},
   "outputs": [
    {
     "data": {
      "text/plain": [
       "24600.0"
      ]
     },
     "execution_count": 151,
     "metadata": {},
     "output_type": "execute_result"
    }
   ],
   "source": [
    "promo_ad1[promo_ad1['vehicle'] == 'Radio']['cost'].sum()"
   ]
  },
  {
   "cell_type": "code",
   "execution_count": 152,
   "metadata": {},
   "outputs": [
    {
     "data": {
      "text/plain": [
       "69333.33333333334"
      ]
     },
     "execution_count": 152,
     "metadata": {},
     "output_type": "execute_result"
    }
   ],
   "source": [
    "promo_ad1[promo_ad1['vehicle'] == 'TV']['cost'].sum()"
   ]
  },
  {
   "cell_type": "code",
   "execution_count": 154,
   "metadata": {},
   "outputs": [
    {
     "data": {
      "text/html": [
       "<div>\n",
       "<style scoped>\n",
       "    .dataframe tbody tr th:only-of-type {\n",
       "        vertical-align: middle;\n",
       "    }\n",
       "\n",
       "    .dataframe tbody tr th {\n",
       "        vertical-align: top;\n",
       "    }\n",
       "\n",
       "    .dataframe thead th {\n",
       "        text-align: right;\n",
       "    }\n",
       "</style>\n",
       "<table border=\"1\" class=\"dataframe\">\n",
       "  <thead>\n",
       "    <tr style=\"text-align: right;\">\n",
       "      <th></th>\n",
       "      <th>Vehicle</th>\n",
       "      <th>DueTo Sales</th>\n",
       "      <th>Cost</th>\n",
       "    </tr>\n",
       "  </thead>\n",
       "  <tbody>\n",
       "    <tr>\n",
       "      <th>0</th>\n",
       "      <td>Display</td>\n",
       "      <td>1238.264596</td>\n",
       "      <td>1500.000000</td>\n",
       "    </tr>\n",
       "    <tr>\n",
       "      <th>1</th>\n",
       "      <td>Facebook Banner</td>\n",
       "      <td>-11615.413218</td>\n",
       "      <td>28445.250000</td>\n",
       "    </tr>\n",
       "    <tr>\n",
       "      <th>2</th>\n",
       "      <td>Flyer</td>\n",
       "      <td>62887.623994</td>\n",
       "      <td>32875.000000</td>\n",
       "    </tr>\n",
       "    <tr>\n",
       "      <th>3</th>\n",
       "      <td>Google Paid Search</td>\n",
       "      <td>33196.722431</td>\n",
       "      <td>37464.500000</td>\n",
       "    </tr>\n",
       "    <tr>\n",
       "      <th>4</th>\n",
       "      <td>Radio</td>\n",
       "      <td>50037.548375</td>\n",
       "      <td>24600.000000</td>\n",
       "    </tr>\n",
       "    <tr>\n",
       "      <th>5</th>\n",
       "      <td>TV</td>\n",
       "      <td>26384.640444</td>\n",
       "      <td>69333.333333</td>\n",
       "    </tr>\n",
       "  </tbody>\n",
       "</table>\n",
       "</div>"
      ],
      "text/plain": [
       "              Vehicle   DueTo Sales          Cost\n",
       "0             Display   1238.264596   1500.000000\n",
       "1     Facebook Banner -11615.413218  28445.250000\n",
       "2               Flyer  62887.623994  32875.000000\n",
       "3  Google Paid Search  33196.722431  37464.500000\n",
       "4               Radio  50037.548375  24600.000000\n",
       "5                  TV  26384.640444  69333.333333"
      ]
     },
     "execution_count": 154,
     "metadata": {},
     "output_type": "execute_result"
    }
   ],
   "source": [
    "# Store in a table and Compare\n",
    "compare1 = pd.DataFrame(\n",
    "    {\n",
    "    'Vehicle': ['Display', 'Facebook Banner', 'Flyer', 'Google Paid Search', 'Radio', 'TV'],\n",
    "    'DueTo Sales': [1238.2645961299067, -11615.413218409272, 62887.62399384918, 33196.72243146848, 50037.54837462617, 26384.640443794848],\n",
    "    'Cost':[1500.0, 28445.25, 32875.0, 37464.5, 24600.0, 69333.3333333334]\n",
    "    }\n",
    ")\n",
    "compare1"
   ]
  },
  {
   "cell_type": "code",
   "execution_count": 155,
   "metadata": {},
   "outputs": [
    {
     "data": {
      "text/html": [
       "<div>\n",
       "<style scoped>\n",
       "    .dataframe tbody tr th:only-of-type {\n",
       "        vertical-align: middle;\n",
       "    }\n",
       "\n",
       "    .dataframe tbody tr th {\n",
       "        vertical-align: top;\n",
       "    }\n",
       "\n",
       "    .dataframe thead th {\n",
       "        text-align: right;\n",
       "    }\n",
       "</style>\n",
       "<table border=\"1\" class=\"dataframe\">\n",
       "  <thead>\n",
       "    <tr style=\"text-align: right;\">\n",
       "      <th></th>\n",
       "      <th>Vehicle</th>\n",
       "      <th>DueTo Sales</th>\n",
       "      <th>Cost</th>\n",
       "      <th>DueTo Profits</th>\n",
       "      <th>Effective Promotion</th>\n",
       "    </tr>\n",
       "  </thead>\n",
       "  <tbody>\n",
       "    <tr>\n",
       "      <th>0</th>\n",
       "      <td>Display</td>\n",
       "      <td>1238.264596</td>\n",
       "      <td>1500.000000</td>\n",
       "      <td>619.132298</td>\n",
       "      <td>Ineffective</td>\n",
       "    </tr>\n",
       "    <tr>\n",
       "      <th>1</th>\n",
       "      <td>Facebook Banner</td>\n",
       "      <td>-11615.413218</td>\n",
       "      <td>28445.250000</td>\n",
       "      <td>-5807.706609</td>\n",
       "      <td>Ineffective</td>\n",
       "    </tr>\n",
       "    <tr>\n",
       "      <th>2</th>\n",
       "      <td>Flyer</td>\n",
       "      <td>62887.623994</td>\n",
       "      <td>32875.000000</td>\n",
       "      <td>31443.811997</td>\n",
       "      <td>Ineffective</td>\n",
       "    </tr>\n",
       "    <tr>\n",
       "      <th>3</th>\n",
       "      <td>Google Paid Search</td>\n",
       "      <td>33196.722431</td>\n",
       "      <td>37464.500000</td>\n",
       "      <td>16598.361216</td>\n",
       "      <td>Ineffective</td>\n",
       "    </tr>\n",
       "    <tr>\n",
       "      <th>4</th>\n",
       "      <td>Radio</td>\n",
       "      <td>50037.548375</td>\n",
       "      <td>24600.000000</td>\n",
       "      <td>25018.774187</td>\n",
       "      <td>Effective</td>\n",
       "    </tr>\n",
       "    <tr>\n",
       "      <th>5</th>\n",
       "      <td>TV</td>\n",
       "      <td>26384.640444</td>\n",
       "      <td>69333.333333</td>\n",
       "      <td>13192.320222</td>\n",
       "      <td>Ineffective</td>\n",
       "    </tr>\n",
       "  </tbody>\n",
       "</table>\n",
       "</div>"
      ],
      "text/plain": [
       "              Vehicle   DueTo Sales          Cost  DueTo Profits  \\\n",
       "0             Display   1238.264596   1500.000000     619.132298   \n",
       "1     Facebook Banner -11615.413218  28445.250000   -5807.706609   \n",
       "2               Flyer  62887.623994  32875.000000   31443.811997   \n",
       "3  Google Paid Search  33196.722431  37464.500000   16598.361216   \n",
       "4               Radio  50037.548375  24600.000000   25018.774187   \n",
       "5                  TV  26384.640444  69333.333333   13192.320222   \n",
       "\n",
       "  Effective Promotion  \n",
       "0         Ineffective  \n",
       "1         Ineffective  \n",
       "2         Ineffective  \n",
       "3         Ineffective  \n",
       "4           Effective  \n",
       "5         Ineffective  "
      ]
     },
     "execution_count": 155,
     "metadata": {},
     "output_type": "execute_result"
    }
   ],
   "source": [
    "# Calculate DueTo profit; use an assumed profit margin for individual beer as 0.5\n",
    "margin = 0.5\n",
    "compare1['DueTo Profits'] = compare1['DueTo Sales'] * margin\n",
    "compare1['Effective Promotion'] = ['Effective' if x > y else 'Ineffective' for x, y in zip(compare1['DueTo Profits'], compare1['Cost'])]\n",
    "compare1"
   ]
  },
  {
   "attachments": {},
   "cell_type": "markdown",
   "metadata": {},
   "source": [
    "### Product 2. Package Beer; We use multiplicative model"
   ]
  },
  {
   "cell_type": "code",
   "execution_count": 156,
   "metadata": {},
   "outputs": [],
   "source": [
    "df_base = df2.copy()\n",
    "df_base['promo_display'] = 0"
   ]
  },
  {
   "cell_type": "code",
   "execution_count": 157,
   "metadata": {},
   "outputs": [],
   "source": [
    "log_pred_base = logmodel2.predict(df_base)\n",
    "pred_base = np.exp(log_pred_base)"
   ]
  },
  {
   "cell_type": "code",
   "execution_count": 160,
   "metadata": {},
   "outputs": [],
   "source": [
    "pred_original = np.exp(logmodel2.predict(df2))"
   ]
  },
  {
   "cell_type": "code",
   "execution_count": 168,
   "metadata": {},
   "outputs": [
    {
     "name": "stderr",
     "output_type": "stream",
     "text": [
      "C:\\Users\\rochj\\AppData\\Local\\Temp\\ipykernel_680\\1230061326.py:1: SettingWithCopyWarning: \n",
      "A value is trying to be set on a copy of a slice from a DataFrame.\n",
      "Try using .loc[row_indexer,col_indexer] = value instead\n",
      "\n",
      "See the caveats in the documentation: https://pandas.pydata.org/pandas-docs/stable/user_guide/indexing.html#returning-a-view-versus-a-copy\n",
      "  df2['DueTo_promo_display'] = pred_original - pred_base\n"
     ]
    }
   ],
   "source": [
    "df2['DueTo_promo_display'] = pred_original - pred_base"
   ]
  },
  {
   "cell_type": "code",
   "execution_count": 173,
   "metadata": {},
   "outputs": [
    {
     "name": "stderr",
     "output_type": "stream",
     "text": [
      "C:\\Users\\rochj\\AppData\\Local\\Temp\\ipykernel_680\\1113185626.py:4: SettingWithCopyWarning: \n",
      "A value is trying to be set on a copy of a slice from a DataFrame.\n",
      "Try using .loc[row_indexer,col_indexer] = value instead\n",
      "\n",
      "See the caveats in the documentation: https://pandas.pydata.org/pandas-docs/stable/user_guide/indexing.html#returning-a-view-versus-a-copy\n",
      "  df2['DueTo_promo_fb'] = pred_original - pred_base\n"
     ]
    }
   ],
   "source": [
    "df_base = df2.copy()\n",
    "df_base['promo_fb'] = 0\n",
    "pred_base = np.exp(logmodel2.predict(df_base))\n",
    "df2['DueTo_promo_fb'] = pred_original - pred_base"
   ]
  },
  {
   "cell_type": "code",
   "execution_count": 174,
   "metadata": {},
   "outputs": [
    {
     "name": "stderr",
     "output_type": "stream",
     "text": [
      "C:\\Users\\rochj\\AppData\\Local\\Temp\\ipykernel_680\\1703216838.py:4: SettingWithCopyWarning: \n",
      "A value is trying to be set on a copy of a slice from a DataFrame.\n",
      "Try using .loc[row_indexer,col_indexer] = value instead\n",
      "\n",
      "See the caveats in the documentation: https://pandas.pydata.org/pandas-docs/stable/user_guide/indexing.html#returning-a-view-versus-a-copy\n",
      "  df2['DueTo_promo_flyer'] = pred_original - pred_base\n"
     ]
    }
   ],
   "source": [
    "df_base = df2.copy()\n",
    "df_base['promo_flyer'] = 0\n",
    "pred_base = np.exp(logmodel2.predict(df_base))\n",
    "df2['DueTo_promo_flyer'] = pred_original - pred_base"
   ]
  },
  {
   "cell_type": "code",
   "execution_count": 175,
   "metadata": {},
   "outputs": [
    {
     "name": "stderr",
     "output_type": "stream",
     "text": [
      "C:\\Users\\rochj\\AppData\\Local\\Temp\\ipykernel_680\\122302698.py:4: SettingWithCopyWarning: \n",
      "A value is trying to be set on a copy of a slice from a DataFrame.\n",
      "Try using .loc[row_indexer,col_indexer] = value instead\n",
      "\n",
      "See the caveats in the documentation: https://pandas.pydata.org/pandas-docs/stable/user_guide/indexing.html#returning-a-view-versus-a-copy\n",
      "  df2['DueTo_promo_google'] = pred_original - pred_base\n"
     ]
    }
   ],
   "source": [
    "df_base = df2.copy()\n",
    "df_base['promo_google'] = 0\n",
    "pred_base = np.exp(logmodel2.predict(df_base))\n",
    "df2['DueTo_promo_google'] = pred_original - pred_base"
   ]
  },
  {
   "cell_type": "code",
   "execution_count": 176,
   "metadata": {},
   "outputs": [
    {
     "name": "stderr",
     "output_type": "stream",
     "text": [
      "C:\\Users\\rochj\\AppData\\Local\\Temp\\ipykernel_680\\954905237.py:4: SettingWithCopyWarning: \n",
      "A value is trying to be set on a copy of a slice from a DataFrame.\n",
      "Try using .loc[row_indexer,col_indexer] = value instead\n",
      "\n",
      "See the caveats in the documentation: https://pandas.pydata.org/pandas-docs/stable/user_guide/indexing.html#returning-a-view-versus-a-copy\n",
      "  df2['DueTo_promo_radio'] = pred_original - pred_base\n"
     ]
    }
   ],
   "source": [
    "df_base = df2.copy()\n",
    "df_base['promo_radio_reach'] = 0\n",
    "pred_base = np.exp(logmodel2.predict(df_base))\n",
    "df2['DueTo_promo_radio'] = pred_original - pred_base"
   ]
  },
  {
   "cell_type": "code",
   "execution_count": 177,
   "metadata": {},
   "outputs": [
    {
     "name": "stderr",
     "output_type": "stream",
     "text": [
      "C:\\Users\\rochj\\AppData\\Local\\Temp\\ipykernel_680\\1675113081.py:4: SettingWithCopyWarning: \n",
      "A value is trying to be set on a copy of a slice from a DataFrame.\n",
      "Try using .loc[row_indexer,col_indexer] = value instead\n",
      "\n",
      "See the caveats in the documentation: https://pandas.pydata.org/pandas-docs/stable/user_guide/indexing.html#returning-a-view-versus-a-copy\n",
      "  df2['DueTo_promo_tv'] = pred_original - pred_base\n"
     ]
    }
   ],
   "source": [
    "df_base = df2.copy()\n",
    "df_base['promo_tv_reach'] = 0\n",
    "pred_base = np.exp(logmodel2.predict(df_base))\n",
    "df2['DueTo_promo_tv'] = pred_original - pred_base"
   ]
  },
  {
   "cell_type": "code",
   "execution_count": 188,
   "metadata": {},
   "outputs": [
    {
     "data": {
      "text/plain": [
       "40742.54600056619"
      ]
     },
     "execution_count": 188,
     "metadata": {},
     "output_type": "execute_result"
    }
   ],
   "source": [
    "df2['DueTo_promo_display'].sum()"
   ]
  },
  {
   "cell_type": "code",
   "execution_count": 190,
   "metadata": {},
   "outputs": [
    {
     "data": {
      "text/plain": [
       "-4007.807794359528"
      ]
     },
     "execution_count": 190,
     "metadata": {},
     "output_type": "execute_result"
    }
   ],
   "source": [
    "df2['DueTo_promo_fb'].sum()"
   ]
  },
  {
   "cell_type": "code",
   "execution_count": 192,
   "metadata": {},
   "outputs": [
    {
     "data": {
      "text/plain": [
       "68624.986320638"
      ]
     },
     "execution_count": 192,
     "metadata": {},
     "output_type": "execute_result"
    }
   ],
   "source": [
    "df2['DueTo_promo_flyer'].sum()"
   ]
  },
  {
   "cell_type": "code",
   "execution_count": 193,
   "metadata": {},
   "outputs": [
    {
     "data": {
      "text/plain": [
       "167304.63147023454"
      ]
     },
     "execution_count": 193,
     "metadata": {},
     "output_type": "execute_result"
    }
   ],
   "source": [
    "df2['DueTo_promo_google'].sum()"
   ]
  },
  {
   "cell_type": "code",
   "execution_count": 195,
   "metadata": {},
   "outputs": [
    {
     "data": {
      "text/plain": [
       "86619.38521309891"
      ]
     },
     "execution_count": 195,
     "metadata": {},
     "output_type": "execute_result"
    }
   ],
   "source": [
    "df2['DueTo_promo_radio'].sum()"
   ]
  },
  {
   "cell_type": "code",
   "execution_count": 196,
   "metadata": {},
   "outputs": [
    {
     "data": {
      "text/plain": [
       "140478.42641120995"
      ]
     },
     "execution_count": 196,
     "metadata": {},
     "output_type": "execute_result"
    }
   ],
   "source": [
    "df2['DueTo_promo_tv'].sum()"
   ]
  },
  {
   "cell_type": "code",
   "execution_count": 180,
   "metadata": {},
   "outputs": [],
   "source": [
    "promo_ad2 = promo_ad[promo_ad['prod_id'] == 23141593]"
   ]
  },
  {
   "cell_type": "code",
   "execution_count": 182,
   "metadata": {},
   "outputs": [
    {
     "data": {
      "text/plain": [
       "63000.0"
      ]
     },
     "execution_count": 182,
     "metadata": {},
     "output_type": "execute_result"
    }
   ],
   "source": [
    "promo_ad2[promo_ad2['vehicle'] == 'Display']['cost'].sum()"
   ]
  },
  {
   "cell_type": "code",
   "execution_count": 183,
   "metadata": {},
   "outputs": [
    {
     "data": {
      "text/plain": [
       "28445.25"
      ]
     },
     "execution_count": 183,
     "metadata": {},
     "output_type": "execute_result"
    }
   ],
   "source": [
    "promo_ad2[promo_ad2['vehicle'] == 'Facebook Banner']['cost'].sum()"
   ]
  },
  {
   "cell_type": "code",
   "execution_count": 184,
   "metadata": {},
   "outputs": [
    {
     "data": {
      "text/plain": [
       "31375.0"
      ]
     },
     "execution_count": 184,
     "metadata": {},
     "output_type": "execute_result"
    }
   ],
   "source": [
    "promo_ad2[promo_ad2['vehicle'] == 'Flyer']['cost'].sum()"
   ]
  },
  {
   "cell_type": "code",
   "execution_count": 185,
   "metadata": {},
   "outputs": [
    {
     "data": {
      "text/plain": [
       "37464.5"
      ]
     },
     "execution_count": 185,
     "metadata": {},
     "output_type": "execute_result"
    }
   ],
   "source": [
    "promo_ad2[promo_ad2['vehicle'] == 'Google Paid Search']['cost'].sum()"
   ]
  },
  {
   "cell_type": "code",
   "execution_count": 186,
   "metadata": {},
   "outputs": [
    {
     "data": {
      "text/plain": [
       "24600.0"
      ]
     },
     "execution_count": 186,
     "metadata": {},
     "output_type": "execute_result"
    }
   ],
   "source": [
    "promo_ad2[promo_ad2['vehicle'] == 'Radio']['cost'].sum()"
   ]
  },
  {
   "cell_type": "code",
   "execution_count": 187,
   "metadata": {},
   "outputs": [
    {
     "data": {
      "text/plain": [
       "69333.33333333334"
      ]
     },
     "execution_count": 187,
     "metadata": {},
     "output_type": "execute_result"
    }
   ],
   "source": [
    "promo_ad2[promo_ad2['vehicle'] == 'TV']['cost'].sum()"
   ]
  },
  {
   "cell_type": "code",
   "execution_count": 197,
   "metadata": {},
   "outputs": [
    {
     "data": {
      "text/html": [
       "<div>\n",
       "<style scoped>\n",
       "    .dataframe tbody tr th:only-of-type {\n",
       "        vertical-align: middle;\n",
       "    }\n",
       "\n",
       "    .dataframe tbody tr th {\n",
       "        vertical-align: top;\n",
       "    }\n",
       "\n",
       "    .dataframe thead th {\n",
       "        text-align: right;\n",
       "    }\n",
       "</style>\n",
       "<table border=\"1\" class=\"dataframe\">\n",
       "  <thead>\n",
       "    <tr style=\"text-align: right;\">\n",
       "      <th></th>\n",
       "      <th>Vehicle</th>\n",
       "      <th>DueTo Sales</th>\n",
       "      <th>Cost</th>\n",
       "    </tr>\n",
       "  </thead>\n",
       "  <tbody>\n",
       "    <tr>\n",
       "      <th>0</th>\n",
       "      <td>Display</td>\n",
       "      <td>40742.546001</td>\n",
       "      <td>63000.000000</td>\n",
       "    </tr>\n",
       "    <tr>\n",
       "      <th>1</th>\n",
       "      <td>Facebook Banner</td>\n",
       "      <td>-4007.807794</td>\n",
       "      <td>28445.250000</td>\n",
       "    </tr>\n",
       "    <tr>\n",
       "      <th>2</th>\n",
       "      <td>Flyer</td>\n",
       "      <td>68624.986321</td>\n",
       "      <td>31375.000000</td>\n",
       "    </tr>\n",
       "    <tr>\n",
       "      <th>3</th>\n",
       "      <td>Google Paid Search</td>\n",
       "      <td>167304.631470</td>\n",
       "      <td>37464.500000</td>\n",
       "    </tr>\n",
       "    <tr>\n",
       "      <th>4</th>\n",
       "      <td>Radio</td>\n",
       "      <td>86619.385213</td>\n",
       "      <td>24600.000000</td>\n",
       "    </tr>\n",
       "    <tr>\n",
       "      <th>5</th>\n",
       "      <td>TV</td>\n",
       "      <td>140478.426411</td>\n",
       "      <td>69333.333333</td>\n",
       "    </tr>\n",
       "  </tbody>\n",
       "</table>\n",
       "</div>"
      ],
      "text/plain": [
       "              Vehicle    DueTo Sales          Cost\n",
       "0             Display   40742.546001  63000.000000\n",
       "1     Facebook Banner   -4007.807794  28445.250000\n",
       "2               Flyer   68624.986321  31375.000000\n",
       "3  Google Paid Search  167304.631470  37464.500000\n",
       "4               Radio   86619.385213  24600.000000\n",
       "5                  TV  140478.426411  69333.333333"
      ]
     },
     "execution_count": 197,
     "metadata": {},
     "output_type": "execute_result"
    }
   ],
   "source": [
    "compare2 = pd.DataFrame(\n",
    "    {\n",
    "    'Vehicle': ['Display', 'Facebook Banner', 'Flyer', 'Google Paid Search', 'Radio', 'TV'],\n",
    "    'DueTo Sales': [40742.54600056619, -4007.807794359528, 68624.986320638, 167304.63147023454, 86619.38521309891, 140478.42641120995],\n",
    "    'Cost':[63000.0, 28445.25, 31375.0, 37464.5, 24600.0, 69333.3333333334]\n",
    "    }\n",
    ")\n",
    "compare2"
   ]
  },
  {
   "cell_type": "code",
   "execution_count": 198,
   "metadata": {},
   "outputs": [
    {
     "data": {
      "text/html": [
       "<div>\n",
       "<style scoped>\n",
       "    .dataframe tbody tr th:only-of-type {\n",
       "        vertical-align: middle;\n",
       "    }\n",
       "\n",
       "    .dataframe tbody tr th {\n",
       "        vertical-align: top;\n",
       "    }\n",
       "\n",
       "    .dataframe thead th {\n",
       "        text-align: right;\n",
       "    }\n",
       "</style>\n",
       "<table border=\"1\" class=\"dataframe\">\n",
       "  <thead>\n",
       "    <tr style=\"text-align: right;\">\n",
       "      <th></th>\n",
       "      <th>Vehicle</th>\n",
       "      <th>DueTo Sales</th>\n",
       "      <th>Cost</th>\n",
       "      <th>DueTo Profits</th>\n",
       "      <th>Effective Promotion</th>\n",
       "    </tr>\n",
       "  </thead>\n",
       "  <tbody>\n",
       "    <tr>\n",
       "      <th>0</th>\n",
       "      <td>Display</td>\n",
       "      <td>40742.546001</td>\n",
       "      <td>63000.000000</td>\n",
       "      <td>16297.018400</td>\n",
       "      <td>Ineffective</td>\n",
       "    </tr>\n",
       "    <tr>\n",
       "      <th>1</th>\n",
       "      <td>Facebook Banner</td>\n",
       "      <td>-4007.807794</td>\n",
       "      <td>28445.250000</td>\n",
       "      <td>-1603.123118</td>\n",
       "      <td>Ineffective</td>\n",
       "    </tr>\n",
       "    <tr>\n",
       "      <th>2</th>\n",
       "      <td>Flyer</td>\n",
       "      <td>68624.986321</td>\n",
       "      <td>31375.000000</td>\n",
       "      <td>27449.994528</td>\n",
       "      <td>Ineffective</td>\n",
       "    </tr>\n",
       "    <tr>\n",
       "      <th>3</th>\n",
       "      <td>Google Paid Search</td>\n",
       "      <td>167304.631470</td>\n",
       "      <td>37464.500000</td>\n",
       "      <td>66921.852588</td>\n",
       "      <td>Effective</td>\n",
       "    </tr>\n",
       "    <tr>\n",
       "      <th>4</th>\n",
       "      <td>Radio</td>\n",
       "      <td>86619.385213</td>\n",
       "      <td>24600.000000</td>\n",
       "      <td>34647.754085</td>\n",
       "      <td>Effective</td>\n",
       "    </tr>\n",
       "    <tr>\n",
       "      <th>5</th>\n",
       "      <td>TV</td>\n",
       "      <td>140478.426411</td>\n",
       "      <td>69333.333333</td>\n",
       "      <td>56191.370564</td>\n",
       "      <td>Ineffective</td>\n",
       "    </tr>\n",
       "  </tbody>\n",
       "</table>\n",
       "</div>"
      ],
      "text/plain": [
       "              Vehicle    DueTo Sales          Cost  DueTo Profits  \\\n",
       "0             Display   40742.546001  63000.000000   16297.018400   \n",
       "1     Facebook Banner   -4007.807794  28445.250000   -1603.123118   \n",
       "2               Flyer   68624.986321  31375.000000   27449.994528   \n",
       "3  Google Paid Search  167304.631470  37464.500000   66921.852588   \n",
       "4               Radio   86619.385213  24600.000000   34647.754085   \n",
       "5                  TV  140478.426411  69333.333333   56191.370564   \n",
       "\n",
       "  Effective Promotion  \n",
       "0         Ineffective  \n",
       "1         Ineffective  \n",
       "2         Ineffective  \n",
       "3           Effective  \n",
       "4           Effective  \n",
       "5         Ineffective  "
      ]
     },
     "execution_count": 198,
     "metadata": {},
     "output_type": "execute_result"
    }
   ],
   "source": [
    "margin2 = 0.4\n",
    "compare2['DueTo Profits'] = compare2['DueTo Sales'] * margin2\n",
    "compare2['Effective Promotion'] = ['Effective' if x > y else 'Ineffective' for x, y in zip(compare2['DueTo Profits'], compare2['Cost'])]\n",
    "compare2"
   ]
  }
 ],
 "metadata": {
  "kernelspec": {
   "display_name": "Python 3",
   "language": "python",
   "name": "python3"
  },
  "language_info": {
   "codemirror_mode": {
    "name": "ipython",
    "version": 3
   },
   "file_extension": ".py",
   "mimetype": "text/x-python",
   "name": "python",
   "nbconvert_exporter": "python",
   "pygments_lexer": "ipython3",
   "version": "3.9.6"
  },
  "orig_nbformat": 4
 },
 "nbformat": 4,
 "nbformat_minor": 2
}
